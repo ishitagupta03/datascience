{
  "nbformat": 4,
  "nbformat_minor": 0,
  "metadata": {
    "colab": {
      "name": "Churn_Rate.ipynb",
      "provenance": [],
      "collapsed_sections": [],
      "include_colab_link": true
    },
    "kernelspec": {
      "display_name": "Python 3",
      "name": "python3"
    },
    "language_info": {
      "name": "python"
    }
  },
  "cells": [
    {
      "cell_type": "markdown",
      "metadata": {
        "id": "view-in-github",
        "colab_type": "text"
      },
      "source": [
        "<a href=\"https://colab.research.google.com/github/ishitagupta03/datascience/blob/main/Churn_Rate.ipynb\" target=\"_parent\"><img src=\"https://colab.research.google.com/assets/colab-badge.svg\" alt=\"Open In Colab\"/></a>"
      ]
    },
    {
      "cell_type": "code",
      "metadata": {
        "id": "9gdRxaOjH904"
      },
      "source": [
        "import pandas as pd\n",
        "import numpy as np\n",
        "import matplotlib.pyplot as plt\n",
        "import seaborn as sns\n",
        "from sklearn.model_selection import train_test_split\n",
        "from sklearn.preprocessing import LabelEncoder\n",
        "from sklearn.linear_model import LogisticRegression\n",
        "from sklearn.neighbors import KNeighborsClassifier\n",
        "from sklearn.svm import SVC\n",
        "from sklearn.tree import DecisionTreeClassifier\n",
        "from sklearn.ensemble import RandomForestClassifier\n",
        "from sklearn import metrics\n",
        "from sklearn import linear_model\n",
        "from sklearn.metrics import accuracy_score\n",
        "from sklearn.metrics import confusion_matrix\n",
        "from sklearn.decomposition import PCA"
      ],
      "execution_count": null,
      "outputs": []
    },
    {
      "cell_type": "code",
      "metadata": {
        "id": "paGWXyrfIDD2"
      },
      "source": [
        "df=pd.read_csv(\"/content/dataa.csv\")"
      ],
      "execution_count": null,
      "outputs": []
    },
    {
      "cell_type": "code",
      "metadata": {
        "id": "-qnrCCNEJBzP",
        "colab": {
          "base_uri": "https://localhost:8080/",
          "height": 307
        },
        "outputId": "455c2a38-7be2-4094-8466-4039d85bd6d3"
      },
      "source": [
        "df.head()"
      ],
      "execution_count": null,
      "outputs": [
        {
          "output_type": "execute_result",
          "data": {
            "text/html": [
              "<div>\n",
              "<style scoped>\n",
              "    .dataframe tbody tr th:only-of-type {\n",
              "        vertical-align: middle;\n",
              "    }\n",
              "\n",
              "    .dataframe tbody tr th {\n",
              "        vertical-align: top;\n",
              "    }\n",
              "\n",
              "    .dataframe thead th {\n",
              "        text-align: right;\n",
              "    }\n",
              "</style>\n",
              "<table border=\"1\" class=\"dataframe\">\n",
              "  <thead>\n",
              "    <tr style=\"text-align: right;\">\n",
              "      <th></th>\n",
              "      <th>customerID</th>\n",
              "      <th>gender</th>\n",
              "      <th>SeniorCitizen</th>\n",
              "      <th>Partner</th>\n",
              "      <th>Dependents</th>\n",
              "      <th>tenure</th>\n",
              "      <th>PhoneService</th>\n",
              "      <th>MultipleLines</th>\n",
              "      <th>InternetService</th>\n",
              "      <th>OnlineSecurity</th>\n",
              "      <th>OnlineBackup</th>\n",
              "      <th>DeviceProtection</th>\n",
              "      <th>TechSupport</th>\n",
              "      <th>StreamingTV</th>\n",
              "      <th>StreamingMovies</th>\n",
              "      <th>Contract</th>\n",
              "      <th>PaperlessBilling</th>\n",
              "      <th>PaymentMethod</th>\n",
              "      <th>MonthlyCharges</th>\n",
              "      <th>TotalCharges</th>\n",
              "      <th>Churn</th>\n",
              "    </tr>\n",
              "  </thead>\n",
              "  <tbody>\n",
              "    <tr>\n",
              "      <th>0</th>\n",
              "      <td>7590-VHVEG</td>\n",
              "      <td>Female</td>\n",
              "      <td>0</td>\n",
              "      <td>Yes</td>\n",
              "      <td>No</td>\n",
              "      <td>1</td>\n",
              "      <td>No</td>\n",
              "      <td>No phone service</td>\n",
              "      <td>DSL</td>\n",
              "      <td>No</td>\n",
              "      <td>Yes</td>\n",
              "      <td>No</td>\n",
              "      <td>No</td>\n",
              "      <td>No</td>\n",
              "      <td>No</td>\n",
              "      <td>Month-to-month</td>\n",
              "      <td>Yes</td>\n",
              "      <td>Electronic check</td>\n",
              "      <td>29.85</td>\n",
              "      <td>29.85</td>\n",
              "      <td>No</td>\n",
              "    </tr>\n",
              "    <tr>\n",
              "      <th>1</th>\n",
              "      <td>5575-GNVDE</td>\n",
              "      <td>Male</td>\n",
              "      <td>0</td>\n",
              "      <td>No</td>\n",
              "      <td>No</td>\n",
              "      <td>34</td>\n",
              "      <td>Yes</td>\n",
              "      <td>No</td>\n",
              "      <td>DSL</td>\n",
              "      <td>Yes</td>\n",
              "      <td>No</td>\n",
              "      <td>Yes</td>\n",
              "      <td>No</td>\n",
              "      <td>No</td>\n",
              "      <td>No</td>\n",
              "      <td>One year</td>\n",
              "      <td>No</td>\n",
              "      <td>Mailed check</td>\n",
              "      <td>56.95</td>\n",
              "      <td>1889.5</td>\n",
              "      <td>No</td>\n",
              "    </tr>\n",
              "    <tr>\n",
              "      <th>2</th>\n",
              "      <td>3668-QPYBK</td>\n",
              "      <td>Male</td>\n",
              "      <td>0</td>\n",
              "      <td>No</td>\n",
              "      <td>No</td>\n",
              "      <td>2</td>\n",
              "      <td>Yes</td>\n",
              "      <td>No</td>\n",
              "      <td>DSL</td>\n",
              "      <td>Yes</td>\n",
              "      <td>Yes</td>\n",
              "      <td>No</td>\n",
              "      <td>No</td>\n",
              "      <td>No</td>\n",
              "      <td>No</td>\n",
              "      <td>Month-to-month</td>\n",
              "      <td>Yes</td>\n",
              "      <td>Mailed check</td>\n",
              "      <td>53.85</td>\n",
              "      <td>108.15</td>\n",
              "      <td>Yes</td>\n",
              "    </tr>\n",
              "    <tr>\n",
              "      <th>3</th>\n",
              "      <td>7795-CFOCW</td>\n",
              "      <td>Male</td>\n",
              "      <td>0</td>\n",
              "      <td>No</td>\n",
              "      <td>No</td>\n",
              "      <td>45</td>\n",
              "      <td>No</td>\n",
              "      <td>No phone service</td>\n",
              "      <td>DSL</td>\n",
              "      <td>Yes</td>\n",
              "      <td>No</td>\n",
              "      <td>Yes</td>\n",
              "      <td>Yes</td>\n",
              "      <td>No</td>\n",
              "      <td>No</td>\n",
              "      <td>One year</td>\n",
              "      <td>No</td>\n",
              "      <td>Bank transfer (automatic)</td>\n",
              "      <td>42.30</td>\n",
              "      <td>1840.75</td>\n",
              "      <td>No</td>\n",
              "    </tr>\n",
              "    <tr>\n",
              "      <th>4</th>\n",
              "      <td>9237-HQITU</td>\n",
              "      <td>Female</td>\n",
              "      <td>0</td>\n",
              "      <td>No</td>\n",
              "      <td>No</td>\n",
              "      <td>2</td>\n",
              "      <td>Yes</td>\n",
              "      <td>No</td>\n",
              "      <td>Fiber optic</td>\n",
              "      <td>No</td>\n",
              "      <td>No</td>\n",
              "      <td>No</td>\n",
              "      <td>No</td>\n",
              "      <td>No</td>\n",
              "      <td>No</td>\n",
              "      <td>Month-to-month</td>\n",
              "      <td>Yes</td>\n",
              "      <td>Electronic check</td>\n",
              "      <td>70.70</td>\n",
              "      <td>151.65</td>\n",
              "      <td>Yes</td>\n",
              "    </tr>\n",
              "  </tbody>\n",
              "</table>\n",
              "</div>"
            ],
            "text/plain": [
              "   customerID  gender  SeniorCitizen  ... MonthlyCharges TotalCharges  Churn\n",
              "0  7590-VHVEG  Female              0  ...          29.85        29.85     No\n",
              "1  5575-GNVDE    Male              0  ...          56.95       1889.5     No\n",
              "2  3668-QPYBK    Male              0  ...          53.85       108.15    Yes\n",
              "3  7795-CFOCW    Male              0  ...          42.30      1840.75     No\n",
              "4  9237-HQITU  Female              0  ...          70.70       151.65    Yes\n",
              "\n",
              "[5 rows x 21 columns]"
            ]
          },
          "metadata": {
            "tags": []
          },
          "execution_count": 30
        }
      ]
    },
    {
      "cell_type": "code",
      "metadata": {
        "id": "HYYI8XheJFvL",
        "colab": {
          "base_uri": "https://localhost:8080/",
          "height": 307
        },
        "outputId": "ef7da239-2db8-4124-e301-bf24cdba4e8b"
      },
      "source": [
        "df.tail()"
      ],
      "execution_count": null,
      "outputs": [
        {
          "output_type": "execute_result",
          "data": {
            "text/html": [
              "<div>\n",
              "<style scoped>\n",
              "    .dataframe tbody tr th:only-of-type {\n",
              "        vertical-align: middle;\n",
              "    }\n",
              "\n",
              "    .dataframe tbody tr th {\n",
              "        vertical-align: top;\n",
              "    }\n",
              "\n",
              "    .dataframe thead th {\n",
              "        text-align: right;\n",
              "    }\n",
              "</style>\n",
              "<table border=\"1\" class=\"dataframe\">\n",
              "  <thead>\n",
              "    <tr style=\"text-align: right;\">\n",
              "      <th></th>\n",
              "      <th>customerID</th>\n",
              "      <th>gender</th>\n",
              "      <th>SeniorCitizen</th>\n",
              "      <th>Partner</th>\n",
              "      <th>Dependents</th>\n",
              "      <th>tenure</th>\n",
              "      <th>PhoneService</th>\n",
              "      <th>MultipleLines</th>\n",
              "      <th>InternetService</th>\n",
              "      <th>OnlineSecurity</th>\n",
              "      <th>OnlineBackup</th>\n",
              "      <th>DeviceProtection</th>\n",
              "      <th>TechSupport</th>\n",
              "      <th>StreamingTV</th>\n",
              "      <th>StreamingMovies</th>\n",
              "      <th>Contract</th>\n",
              "      <th>PaperlessBilling</th>\n",
              "      <th>PaymentMethod</th>\n",
              "      <th>MonthlyCharges</th>\n",
              "      <th>TotalCharges</th>\n",
              "      <th>Churn</th>\n",
              "    </tr>\n",
              "  </thead>\n",
              "  <tbody>\n",
              "    <tr>\n",
              "      <th>7038</th>\n",
              "      <td>6840-RESVB</td>\n",
              "      <td>Male</td>\n",
              "      <td>0</td>\n",
              "      <td>Yes</td>\n",
              "      <td>Yes</td>\n",
              "      <td>24</td>\n",
              "      <td>Yes</td>\n",
              "      <td>Yes</td>\n",
              "      <td>DSL</td>\n",
              "      <td>Yes</td>\n",
              "      <td>No</td>\n",
              "      <td>Yes</td>\n",
              "      <td>Yes</td>\n",
              "      <td>Yes</td>\n",
              "      <td>Yes</td>\n",
              "      <td>One year</td>\n",
              "      <td>Yes</td>\n",
              "      <td>Mailed check</td>\n",
              "      <td>84.80</td>\n",
              "      <td>1990.5</td>\n",
              "      <td>No</td>\n",
              "    </tr>\n",
              "    <tr>\n",
              "      <th>7039</th>\n",
              "      <td>2234-XADUH</td>\n",
              "      <td>Female</td>\n",
              "      <td>0</td>\n",
              "      <td>Yes</td>\n",
              "      <td>Yes</td>\n",
              "      <td>72</td>\n",
              "      <td>Yes</td>\n",
              "      <td>Yes</td>\n",
              "      <td>Fiber optic</td>\n",
              "      <td>No</td>\n",
              "      <td>Yes</td>\n",
              "      <td>Yes</td>\n",
              "      <td>No</td>\n",
              "      <td>Yes</td>\n",
              "      <td>Yes</td>\n",
              "      <td>One year</td>\n",
              "      <td>Yes</td>\n",
              "      <td>Credit card (automatic)</td>\n",
              "      <td>103.20</td>\n",
              "      <td>7362.9</td>\n",
              "      <td>No</td>\n",
              "    </tr>\n",
              "    <tr>\n",
              "      <th>7040</th>\n",
              "      <td>4801-JZAZL</td>\n",
              "      <td>Female</td>\n",
              "      <td>0</td>\n",
              "      <td>Yes</td>\n",
              "      <td>Yes</td>\n",
              "      <td>11</td>\n",
              "      <td>No</td>\n",
              "      <td>No phone service</td>\n",
              "      <td>DSL</td>\n",
              "      <td>Yes</td>\n",
              "      <td>No</td>\n",
              "      <td>No</td>\n",
              "      <td>No</td>\n",
              "      <td>No</td>\n",
              "      <td>No</td>\n",
              "      <td>Month-to-month</td>\n",
              "      <td>Yes</td>\n",
              "      <td>Electronic check</td>\n",
              "      <td>29.60</td>\n",
              "      <td>346.45</td>\n",
              "      <td>No</td>\n",
              "    </tr>\n",
              "    <tr>\n",
              "      <th>7041</th>\n",
              "      <td>8361-LTMKD</td>\n",
              "      <td>Male</td>\n",
              "      <td>1</td>\n",
              "      <td>Yes</td>\n",
              "      <td>No</td>\n",
              "      <td>4</td>\n",
              "      <td>Yes</td>\n",
              "      <td>Yes</td>\n",
              "      <td>Fiber optic</td>\n",
              "      <td>No</td>\n",
              "      <td>No</td>\n",
              "      <td>No</td>\n",
              "      <td>No</td>\n",
              "      <td>No</td>\n",
              "      <td>No</td>\n",
              "      <td>Month-to-month</td>\n",
              "      <td>Yes</td>\n",
              "      <td>Mailed check</td>\n",
              "      <td>74.40</td>\n",
              "      <td>306.6</td>\n",
              "      <td>Yes</td>\n",
              "    </tr>\n",
              "    <tr>\n",
              "      <th>7042</th>\n",
              "      <td>3186-AJIEK</td>\n",
              "      <td>Male</td>\n",
              "      <td>0</td>\n",
              "      <td>No</td>\n",
              "      <td>No</td>\n",
              "      <td>66</td>\n",
              "      <td>Yes</td>\n",
              "      <td>No</td>\n",
              "      <td>Fiber optic</td>\n",
              "      <td>Yes</td>\n",
              "      <td>No</td>\n",
              "      <td>Yes</td>\n",
              "      <td>Yes</td>\n",
              "      <td>Yes</td>\n",
              "      <td>Yes</td>\n",
              "      <td>Two year</td>\n",
              "      <td>Yes</td>\n",
              "      <td>Bank transfer (automatic)</td>\n",
              "      <td>105.65</td>\n",
              "      <td>6844.5</td>\n",
              "      <td>No</td>\n",
              "    </tr>\n",
              "  </tbody>\n",
              "</table>\n",
              "</div>"
            ],
            "text/plain": [
              "      customerID  gender  SeniorCitizen  ... MonthlyCharges TotalCharges  Churn\n",
              "7038  6840-RESVB    Male              0  ...          84.80       1990.5     No\n",
              "7039  2234-XADUH  Female              0  ...         103.20       7362.9     No\n",
              "7040  4801-JZAZL  Female              0  ...          29.60       346.45     No\n",
              "7041  8361-LTMKD    Male              1  ...          74.40        306.6    Yes\n",
              "7042  3186-AJIEK    Male              0  ...         105.65       6844.5     No\n",
              "\n",
              "[5 rows x 21 columns]"
            ]
          },
          "metadata": {
            "tags": []
          },
          "execution_count": 31
        }
      ]
    },
    {
      "cell_type": "code",
      "metadata": {
        "id": "915lgvd1L9xg"
      },
      "source": [
        "df.drop('customerID',axis='columns',inplace=True)"
      ],
      "execution_count": null,
      "outputs": []
    },
    {
      "cell_type": "code",
      "metadata": {
        "id": "SSzX8FLrkiPq",
        "colab": {
          "base_uri": "https://localhost:8080/"
        },
        "outputId": "acbd6def-b704-40d9-d368-85c0745223d3"
      },
      "source": [
        "df.shape"
      ],
      "execution_count": null,
      "outputs": [
        {
          "output_type": "execute_result",
          "data": {
            "text/plain": [
              "(7043, 20)"
            ]
          },
          "metadata": {
            "tags": []
          },
          "execution_count": 33
        }
      ]
    },
    {
      "cell_type": "code",
      "metadata": {
        "id": "VILZqrH1q0kC",
        "colab": {
          "base_uri": "https://localhost:8080/",
          "height": 110
        },
        "outputId": "a8db5469-91bb-4fae-e540-cfa1285b2b48"
      },
      "source": [
        "gender_count=pd.DataFrame(df['gender'].value_counts())\n",
        "gender_count"
      ],
      "execution_count": null,
      "outputs": [
        {
          "output_type": "execute_result",
          "data": {
            "text/html": [
              "<div>\n",
              "<style scoped>\n",
              "    .dataframe tbody tr th:only-of-type {\n",
              "        vertical-align: middle;\n",
              "    }\n",
              "\n",
              "    .dataframe tbody tr th {\n",
              "        vertical-align: top;\n",
              "    }\n",
              "\n",
              "    .dataframe thead th {\n",
              "        text-align: right;\n",
              "    }\n",
              "</style>\n",
              "<table border=\"1\" class=\"dataframe\">\n",
              "  <thead>\n",
              "    <tr style=\"text-align: right;\">\n",
              "      <th></th>\n",
              "      <th>gender</th>\n",
              "    </tr>\n",
              "  </thead>\n",
              "  <tbody>\n",
              "    <tr>\n",
              "      <th>0</th>\n",
              "      <td>3549</td>\n",
              "    </tr>\n",
              "    <tr>\n",
              "      <th>1</th>\n",
              "      <td>3483</td>\n",
              "    </tr>\n",
              "  </tbody>\n",
              "</table>\n",
              "</div>"
            ],
            "text/plain": [
              "   gender\n",
              "0    3549\n",
              "1    3483"
            ]
          },
          "metadata": {
            "tags": []
          },
          "execution_count": 82
        }
      ]
    },
    {
      "cell_type": "markdown",
      "metadata": {
        "id": "yU4iCBjc7G30"
      },
      "source": [
        "There is an almost equal gender distribution."
      ]
    },
    {
      "cell_type": "code",
      "metadata": {
        "id": "xRHaho1mJQ11",
        "colab": {
          "base_uri": "https://localhost:8080/"
        },
        "outputId": "5e11a277-4aa1-4a1d-f387-cce1cc6b7619"
      },
      "source": [
        "df.info()"
      ],
      "execution_count": null,
      "outputs": [
        {
          "output_type": "stream",
          "text": [
            "<class 'pandas.core.frame.DataFrame'>\n",
            "RangeIndex: 7043 entries, 0 to 7042\n",
            "Data columns (total 20 columns):\n",
            " #   Column            Non-Null Count  Dtype  \n",
            "---  ------            --------------  -----  \n",
            " 0   gender            7043 non-null   object \n",
            " 1   SeniorCitizen     7043 non-null   int64  \n",
            " 2   Partner           7043 non-null   object \n",
            " 3   Dependents        7043 non-null   object \n",
            " 4   tenure            7043 non-null   int64  \n",
            " 5   PhoneService      7043 non-null   object \n",
            " 6   MultipleLines     7043 non-null   object \n",
            " 7   InternetService   7043 non-null   object \n",
            " 8   OnlineSecurity    7043 non-null   object \n",
            " 9   OnlineBackup      7043 non-null   object \n",
            " 10  DeviceProtection  7043 non-null   object \n",
            " 11  TechSupport       7043 non-null   object \n",
            " 12  StreamingTV       7043 non-null   object \n",
            " 13  StreamingMovies   7043 non-null   object \n",
            " 14  Contract          7043 non-null   object \n",
            " 15  PaperlessBilling  7043 non-null   object \n",
            " 16  PaymentMethod     7043 non-null   object \n",
            " 17  MonthlyCharges    7043 non-null   float64\n",
            " 18  TotalCharges      7043 non-null   object \n",
            " 19  Churn             7043 non-null   object \n",
            "dtypes: float64(1), int64(2), object(17)\n",
            "memory usage: 1.1+ MB\n"
          ],
          "name": "stdout"
        }
      ]
    },
    {
      "cell_type": "markdown",
      "metadata": {
        "id": "uYMquwOl4Z3n"
      },
      "source": [
        "Total charges and monthly charges are of diff. datatypes.\n"
      ]
    },
    {
      "cell_type": "code",
      "metadata": {
        "id": "hrmAdtYz2Z5O",
        "colab": {
          "base_uri": "https://localhost:8080/",
          "height": 295
        },
        "outputId": "55f75048-2b84-4618-c940-c0eb49cb5a09"
      },
      "source": [
        "df.describe()"
      ],
      "execution_count": null,
      "outputs": [
        {
          "output_type": "execute_result",
          "data": {
            "text/html": [
              "<div>\n",
              "<style scoped>\n",
              "    .dataframe tbody tr th:only-of-type {\n",
              "        vertical-align: middle;\n",
              "    }\n",
              "\n",
              "    .dataframe tbody tr th {\n",
              "        vertical-align: top;\n",
              "    }\n",
              "\n",
              "    .dataframe thead th {\n",
              "        text-align: right;\n",
              "    }\n",
              "</style>\n",
              "<table border=\"1\" class=\"dataframe\">\n",
              "  <thead>\n",
              "    <tr style=\"text-align: right;\">\n",
              "      <th></th>\n",
              "      <th>SeniorCitizen</th>\n",
              "      <th>tenure</th>\n",
              "      <th>MonthlyCharges</th>\n",
              "    </tr>\n",
              "  </thead>\n",
              "  <tbody>\n",
              "    <tr>\n",
              "      <th>count</th>\n",
              "      <td>7043.000000</td>\n",
              "      <td>7043.000000</td>\n",
              "      <td>7043.000000</td>\n",
              "    </tr>\n",
              "    <tr>\n",
              "      <th>mean</th>\n",
              "      <td>0.162147</td>\n",
              "      <td>32.371149</td>\n",
              "      <td>64.761692</td>\n",
              "    </tr>\n",
              "    <tr>\n",
              "      <th>std</th>\n",
              "      <td>0.368612</td>\n",
              "      <td>24.559481</td>\n",
              "      <td>30.090047</td>\n",
              "    </tr>\n",
              "    <tr>\n",
              "      <th>min</th>\n",
              "      <td>0.000000</td>\n",
              "      <td>0.000000</td>\n",
              "      <td>18.250000</td>\n",
              "    </tr>\n",
              "    <tr>\n",
              "      <th>25%</th>\n",
              "      <td>0.000000</td>\n",
              "      <td>9.000000</td>\n",
              "      <td>35.500000</td>\n",
              "    </tr>\n",
              "    <tr>\n",
              "      <th>50%</th>\n",
              "      <td>0.000000</td>\n",
              "      <td>29.000000</td>\n",
              "      <td>70.350000</td>\n",
              "    </tr>\n",
              "    <tr>\n",
              "      <th>75%</th>\n",
              "      <td>0.000000</td>\n",
              "      <td>55.000000</td>\n",
              "      <td>89.850000</td>\n",
              "    </tr>\n",
              "    <tr>\n",
              "      <th>max</th>\n",
              "      <td>1.000000</td>\n",
              "      <td>72.000000</td>\n",
              "      <td>118.750000</td>\n",
              "    </tr>\n",
              "  </tbody>\n",
              "</table>\n",
              "</div>"
            ],
            "text/plain": [
              "       SeniorCitizen       tenure  MonthlyCharges\n",
              "count    7043.000000  7043.000000     7043.000000\n",
              "mean        0.162147    32.371149       64.761692\n",
              "std         0.368612    24.559481       30.090047\n",
              "min         0.000000     0.000000       18.250000\n",
              "25%         0.000000     9.000000       35.500000\n",
              "50%         0.000000    29.000000       70.350000\n",
              "75%         0.000000    55.000000       89.850000\n",
              "max         1.000000    72.000000      118.750000"
            ]
          },
          "metadata": {
            "tags": []
          },
          "execution_count": 35
        }
      ]
    },
    {
      "cell_type": "markdown",
      "metadata": {
        "id": "7TF_FDwM395H"
      },
      "source": [
        "75% of the customers have tenure of less then 55 months"
      ]
    },
    {
      "cell_type": "code",
      "metadata": {
        "id": "UAibfzKBT3F8",
        "colab": {
          "base_uri": "https://localhost:8080/",
          "height": 172
        },
        "outputId": "12290786-4d05-4d70-c311-30165841a71e"
      },
      "source": [
        "df.groupby('Contract').sum()"
      ],
      "execution_count": null,
      "outputs": [
        {
          "output_type": "execute_result",
          "data": {
            "text/html": [
              "<div>\n",
              "<style scoped>\n",
              "    .dataframe tbody tr th:only-of-type {\n",
              "        vertical-align: middle;\n",
              "    }\n",
              "\n",
              "    .dataframe tbody tr th {\n",
              "        vertical-align: top;\n",
              "    }\n",
              "\n",
              "    .dataframe thead th {\n",
              "        text-align: right;\n",
              "    }\n",
              "</style>\n",
              "<table border=\"1\" class=\"dataframe\">\n",
              "  <thead>\n",
              "    <tr style=\"text-align: right;\">\n",
              "      <th></th>\n",
              "      <th>SeniorCitizen</th>\n",
              "      <th>tenure</th>\n",
              "      <th>MonthlyCharges</th>\n",
              "    </tr>\n",
              "    <tr>\n",
              "      <th>Contract</th>\n",
              "      <th></th>\n",
              "      <th></th>\n",
              "      <th></th>\n",
              "    </tr>\n",
              "  </thead>\n",
              "  <tbody>\n",
              "    <tr>\n",
              "      <th>Month-to-month</th>\n",
              "      <td>807</td>\n",
              "      <td>69892</td>\n",
              "      <td>257294.15</td>\n",
              "    </tr>\n",
              "    <tr>\n",
              "      <th>One year</th>\n",
              "      <td>190</td>\n",
              "      <td>61932</td>\n",
              "      <td>95816.60</td>\n",
              "    </tr>\n",
              "    <tr>\n",
              "      <th>Two year</th>\n",
              "      <td>145</td>\n",
              "      <td>96166</td>\n",
              "      <td>103005.85</td>\n",
              "    </tr>\n",
              "  </tbody>\n",
              "</table>\n",
              "</div>"
            ],
            "text/plain": [
              "                SeniorCitizen  tenure  MonthlyCharges\n",
              "Contract                                             \n",
              "Month-to-month            807   69892       257294.15\n",
              "One year                  190   61932        95816.60\n",
              "Two year                  145   96166       103005.85"
            ]
          },
          "metadata": {
            "tags": []
          },
          "execution_count": 36
        }
      ]
    },
    {
      "cell_type": "code",
      "metadata": {
        "id": "FgnEtoUDkfl_",
        "colab": {
          "base_uri": "https://localhost:8080/",
          "height": 559
        },
        "outputId": "754be595-c353-4ef8-b989-035c8690ab24"
      },
      "source": [
        "df[pd.to_numeric(df.TotalCharges,errors='coerce').isnull()]"
      ],
      "execution_count": null,
      "outputs": [
        {
          "output_type": "execute_result",
          "data": {
            "text/html": [
              "<div>\n",
              "<style scoped>\n",
              "    .dataframe tbody tr th:only-of-type {\n",
              "        vertical-align: middle;\n",
              "    }\n",
              "\n",
              "    .dataframe tbody tr th {\n",
              "        vertical-align: top;\n",
              "    }\n",
              "\n",
              "    .dataframe thead th {\n",
              "        text-align: right;\n",
              "    }\n",
              "</style>\n",
              "<table border=\"1\" class=\"dataframe\">\n",
              "  <thead>\n",
              "    <tr style=\"text-align: right;\">\n",
              "      <th></th>\n",
              "      <th>gender</th>\n",
              "      <th>SeniorCitizen</th>\n",
              "      <th>Partner</th>\n",
              "      <th>Dependents</th>\n",
              "      <th>tenure</th>\n",
              "      <th>PhoneService</th>\n",
              "      <th>MultipleLines</th>\n",
              "      <th>InternetService</th>\n",
              "      <th>OnlineSecurity</th>\n",
              "      <th>OnlineBackup</th>\n",
              "      <th>DeviceProtection</th>\n",
              "      <th>TechSupport</th>\n",
              "      <th>StreamingTV</th>\n",
              "      <th>StreamingMovies</th>\n",
              "      <th>Contract</th>\n",
              "      <th>PaperlessBilling</th>\n",
              "      <th>PaymentMethod</th>\n",
              "      <th>MonthlyCharges</th>\n",
              "      <th>TotalCharges</th>\n",
              "      <th>Churn</th>\n",
              "    </tr>\n",
              "  </thead>\n",
              "  <tbody>\n",
              "    <tr>\n",
              "      <th>488</th>\n",
              "      <td>Female</td>\n",
              "      <td>0</td>\n",
              "      <td>Yes</td>\n",
              "      <td>Yes</td>\n",
              "      <td>0</td>\n",
              "      <td>No</td>\n",
              "      <td>No phone service</td>\n",
              "      <td>DSL</td>\n",
              "      <td>Yes</td>\n",
              "      <td>No</td>\n",
              "      <td>Yes</td>\n",
              "      <td>Yes</td>\n",
              "      <td>Yes</td>\n",
              "      <td>No</td>\n",
              "      <td>Two year</td>\n",
              "      <td>Yes</td>\n",
              "      <td>Bank transfer (automatic)</td>\n",
              "      <td>52.55</td>\n",
              "      <td></td>\n",
              "      <td>No</td>\n",
              "    </tr>\n",
              "    <tr>\n",
              "      <th>753</th>\n",
              "      <td>Male</td>\n",
              "      <td>0</td>\n",
              "      <td>No</td>\n",
              "      <td>Yes</td>\n",
              "      <td>0</td>\n",
              "      <td>Yes</td>\n",
              "      <td>No</td>\n",
              "      <td>No</td>\n",
              "      <td>No internet service</td>\n",
              "      <td>No internet service</td>\n",
              "      <td>No internet service</td>\n",
              "      <td>No internet service</td>\n",
              "      <td>No internet service</td>\n",
              "      <td>No internet service</td>\n",
              "      <td>Two year</td>\n",
              "      <td>No</td>\n",
              "      <td>Mailed check</td>\n",
              "      <td>20.25</td>\n",
              "      <td></td>\n",
              "      <td>No</td>\n",
              "    </tr>\n",
              "    <tr>\n",
              "      <th>936</th>\n",
              "      <td>Female</td>\n",
              "      <td>0</td>\n",
              "      <td>Yes</td>\n",
              "      <td>Yes</td>\n",
              "      <td>0</td>\n",
              "      <td>Yes</td>\n",
              "      <td>No</td>\n",
              "      <td>DSL</td>\n",
              "      <td>Yes</td>\n",
              "      <td>Yes</td>\n",
              "      <td>Yes</td>\n",
              "      <td>No</td>\n",
              "      <td>Yes</td>\n",
              "      <td>Yes</td>\n",
              "      <td>Two year</td>\n",
              "      <td>No</td>\n",
              "      <td>Mailed check</td>\n",
              "      <td>80.85</td>\n",
              "      <td></td>\n",
              "      <td>No</td>\n",
              "    </tr>\n",
              "    <tr>\n",
              "      <th>1082</th>\n",
              "      <td>Male</td>\n",
              "      <td>0</td>\n",
              "      <td>Yes</td>\n",
              "      <td>Yes</td>\n",
              "      <td>0</td>\n",
              "      <td>Yes</td>\n",
              "      <td>Yes</td>\n",
              "      <td>No</td>\n",
              "      <td>No internet service</td>\n",
              "      <td>No internet service</td>\n",
              "      <td>No internet service</td>\n",
              "      <td>No internet service</td>\n",
              "      <td>No internet service</td>\n",
              "      <td>No internet service</td>\n",
              "      <td>Two year</td>\n",
              "      <td>No</td>\n",
              "      <td>Mailed check</td>\n",
              "      <td>25.75</td>\n",
              "      <td></td>\n",
              "      <td>No</td>\n",
              "    </tr>\n",
              "    <tr>\n",
              "      <th>1340</th>\n",
              "      <td>Female</td>\n",
              "      <td>0</td>\n",
              "      <td>Yes</td>\n",
              "      <td>Yes</td>\n",
              "      <td>0</td>\n",
              "      <td>No</td>\n",
              "      <td>No phone service</td>\n",
              "      <td>DSL</td>\n",
              "      <td>Yes</td>\n",
              "      <td>Yes</td>\n",
              "      <td>Yes</td>\n",
              "      <td>Yes</td>\n",
              "      <td>Yes</td>\n",
              "      <td>No</td>\n",
              "      <td>Two year</td>\n",
              "      <td>No</td>\n",
              "      <td>Credit card (automatic)</td>\n",
              "      <td>56.05</td>\n",
              "      <td></td>\n",
              "      <td>No</td>\n",
              "    </tr>\n",
              "    <tr>\n",
              "      <th>3331</th>\n",
              "      <td>Male</td>\n",
              "      <td>0</td>\n",
              "      <td>Yes</td>\n",
              "      <td>Yes</td>\n",
              "      <td>0</td>\n",
              "      <td>Yes</td>\n",
              "      <td>No</td>\n",
              "      <td>No</td>\n",
              "      <td>No internet service</td>\n",
              "      <td>No internet service</td>\n",
              "      <td>No internet service</td>\n",
              "      <td>No internet service</td>\n",
              "      <td>No internet service</td>\n",
              "      <td>No internet service</td>\n",
              "      <td>Two year</td>\n",
              "      <td>No</td>\n",
              "      <td>Mailed check</td>\n",
              "      <td>19.85</td>\n",
              "      <td></td>\n",
              "      <td>No</td>\n",
              "    </tr>\n",
              "    <tr>\n",
              "      <th>3826</th>\n",
              "      <td>Male</td>\n",
              "      <td>0</td>\n",
              "      <td>Yes</td>\n",
              "      <td>Yes</td>\n",
              "      <td>0</td>\n",
              "      <td>Yes</td>\n",
              "      <td>Yes</td>\n",
              "      <td>No</td>\n",
              "      <td>No internet service</td>\n",
              "      <td>No internet service</td>\n",
              "      <td>No internet service</td>\n",
              "      <td>No internet service</td>\n",
              "      <td>No internet service</td>\n",
              "      <td>No internet service</td>\n",
              "      <td>Two year</td>\n",
              "      <td>No</td>\n",
              "      <td>Mailed check</td>\n",
              "      <td>25.35</td>\n",
              "      <td></td>\n",
              "      <td>No</td>\n",
              "    </tr>\n",
              "    <tr>\n",
              "      <th>4380</th>\n",
              "      <td>Female</td>\n",
              "      <td>0</td>\n",
              "      <td>Yes</td>\n",
              "      <td>Yes</td>\n",
              "      <td>0</td>\n",
              "      <td>Yes</td>\n",
              "      <td>No</td>\n",
              "      <td>No</td>\n",
              "      <td>No internet service</td>\n",
              "      <td>No internet service</td>\n",
              "      <td>No internet service</td>\n",
              "      <td>No internet service</td>\n",
              "      <td>No internet service</td>\n",
              "      <td>No internet service</td>\n",
              "      <td>Two year</td>\n",
              "      <td>No</td>\n",
              "      <td>Mailed check</td>\n",
              "      <td>20.00</td>\n",
              "      <td></td>\n",
              "      <td>No</td>\n",
              "    </tr>\n",
              "    <tr>\n",
              "      <th>5218</th>\n",
              "      <td>Male</td>\n",
              "      <td>0</td>\n",
              "      <td>Yes</td>\n",
              "      <td>Yes</td>\n",
              "      <td>0</td>\n",
              "      <td>Yes</td>\n",
              "      <td>No</td>\n",
              "      <td>No</td>\n",
              "      <td>No internet service</td>\n",
              "      <td>No internet service</td>\n",
              "      <td>No internet service</td>\n",
              "      <td>No internet service</td>\n",
              "      <td>No internet service</td>\n",
              "      <td>No internet service</td>\n",
              "      <td>One year</td>\n",
              "      <td>Yes</td>\n",
              "      <td>Mailed check</td>\n",
              "      <td>19.70</td>\n",
              "      <td></td>\n",
              "      <td>No</td>\n",
              "    </tr>\n",
              "    <tr>\n",
              "      <th>6670</th>\n",
              "      <td>Female</td>\n",
              "      <td>0</td>\n",
              "      <td>Yes</td>\n",
              "      <td>Yes</td>\n",
              "      <td>0</td>\n",
              "      <td>Yes</td>\n",
              "      <td>Yes</td>\n",
              "      <td>DSL</td>\n",
              "      <td>No</td>\n",
              "      <td>Yes</td>\n",
              "      <td>Yes</td>\n",
              "      <td>Yes</td>\n",
              "      <td>Yes</td>\n",
              "      <td>No</td>\n",
              "      <td>Two year</td>\n",
              "      <td>No</td>\n",
              "      <td>Mailed check</td>\n",
              "      <td>73.35</td>\n",
              "      <td></td>\n",
              "      <td>No</td>\n",
              "    </tr>\n",
              "    <tr>\n",
              "      <th>6754</th>\n",
              "      <td>Male</td>\n",
              "      <td>0</td>\n",
              "      <td>No</td>\n",
              "      <td>Yes</td>\n",
              "      <td>0</td>\n",
              "      <td>Yes</td>\n",
              "      <td>Yes</td>\n",
              "      <td>DSL</td>\n",
              "      <td>Yes</td>\n",
              "      <td>Yes</td>\n",
              "      <td>No</td>\n",
              "      <td>Yes</td>\n",
              "      <td>No</td>\n",
              "      <td>No</td>\n",
              "      <td>Two year</td>\n",
              "      <td>Yes</td>\n",
              "      <td>Bank transfer (automatic)</td>\n",
              "      <td>61.90</td>\n",
              "      <td></td>\n",
              "      <td>No</td>\n",
              "    </tr>\n",
              "  </tbody>\n",
              "</table>\n",
              "</div>"
            ],
            "text/plain": [
              "      gender  SeniorCitizen Partner  ... MonthlyCharges  TotalCharges Churn\n",
              "488   Female              0     Yes  ...          52.55                  No\n",
              "753     Male              0      No  ...          20.25                  No\n",
              "936   Female              0     Yes  ...          80.85                  No\n",
              "1082    Male              0     Yes  ...          25.75                  No\n",
              "1340  Female              0     Yes  ...          56.05                  No\n",
              "3331    Male              0     Yes  ...          19.85                  No\n",
              "3826    Male              0     Yes  ...          25.35                  No\n",
              "4380  Female              0     Yes  ...          20.00                  No\n",
              "5218    Male              0     Yes  ...          19.70                  No\n",
              "6670  Female              0     Yes  ...          73.35                  No\n",
              "6754    Male              0      No  ...          61.90                  No\n",
              "\n",
              "[11 rows x 20 columns]"
            ]
          },
          "metadata": {
            "tags": []
          },
          "execution_count": 37
        }
      ]
    },
    {
      "cell_type": "markdown",
      "metadata": {
        "id": "pRd9Zlm54pF3"
      },
      "source": [
        "coerce is used for ignoring spaces in string\n",
        "returning rows whose total charges are null."
      ]
    },
    {
      "cell_type": "markdown",
      "metadata": {
        "id": "MhET25sy3zSE"
      },
      "source": [
        "Dropping those columns which have empty value of Total Charges"
      ]
    },
    {
      "cell_type": "code",
      "metadata": {
        "id": "x9QfmeAvnzri",
        "colab": {
          "base_uri": "https://localhost:8080/"
        },
        "outputId": "ccc4540d-d664-42ad-aaac-c83289239211"
      },
      "source": [
        "df = df[df.TotalCharges!=' ']\n",
        "df.shape"
      ],
      "execution_count": null,
      "outputs": [
        {
          "output_type": "execute_result",
          "data": {
            "text/plain": [
              "(7032, 20)"
            ]
          },
          "metadata": {
            "tags": []
          },
          "execution_count": 38
        }
      ]
    },
    {
      "cell_type": "code",
      "metadata": {
        "id": "ydhssj3d01gB",
        "colab": {
          "base_uri": "https://localhost:8080/"
        },
        "outputId": "f22f3943-be6a-460a-ddbb-09f48ef4ef4d"
      },
      "source": [
        "df[df.Churn=='No'].tenure"
      ],
      "execution_count": null,
      "outputs": [
        {
          "output_type": "execute_result",
          "data": {
            "text/plain": [
              "0        1\n",
              "1       34\n",
              "3       45\n",
              "6       22\n",
              "7       10\n",
              "        ..\n",
              "7037    72\n",
              "7038    24\n",
              "7039    72\n",
              "7040    11\n",
              "7042    66\n",
              "Name: tenure, Length: 5163, dtype: int64"
            ]
          },
          "metadata": {
            "tags": []
          },
          "execution_count": 39
        }
      ]
    },
    {
      "cell_type": "code",
      "metadata": {
        "id": "cJJwHVAz3QsX",
        "colab": {
          "base_uri": "https://localhost:8080/",
          "height": 333
        },
        "outputId": "108bef39-d6d2-477f-cf0c-82f59889fb09"
      },
      "source": [
        "no=df[df.Churn=='No'].MonthlyCharges\n",
        "yes=df[df.Churn=='Yes'].MonthlyCharges\n",
        "plt.xlabel(\"Monthly Charges\")\n",
        "plt.ylabel(\"Number Of Customers\")\n",
        "plt.hist([yes, no], rwidth=0.95, color=['green','red'])\n",
        "plt.show()"
      ],
      "execution_count": null,
      "outputs": [
        {
          "output_type": "stream",
          "text": [
            "/usr/local/lib/python3.7/dist-packages/numpy/core/_asarray.py:83: VisibleDeprecationWarning: Creating an ndarray from ragged nested sequences (which is a list-or-tuple of lists-or-tuples-or ndarrays with different lengths or shapes) is deprecated. If you meant to do this, you must specify 'dtype=object' when creating the ndarray\n",
            "  return array(a, dtype, copy=False, order=order)\n"
          ],
          "name": "stderr"
        },
        {
          "output_type": "display_data",
          "data": {
            "image/png": "[encoded data removed]",
            "text/plain": [
              "<Figure size 432x288 with 1 Axes>"
            ]
          },
          "metadata": {
            "tags": [],
            "needs_background": "light"
          }
        }
      ]
    },
    {
      "cell_type": "code",
      "metadata": {
        "id": "FGr1i9oISSMi",
        "colab": {
          "base_uri": "https://localhost:8080/"
        },
        "outputId": "b39cc6d3-20d2-43eb-db14-13b5a3043640"
      },
      "source": [
        "df.isnull().sum()"
      ],
      "execution_count": null,
      "outputs": [
        {
          "output_type": "execute_result",
          "data": {
            "text/plain": [
              "gender              0\n",
              "SeniorCitizen       0\n",
              "Partner             0\n",
              "Dependents          0\n",
              "tenure              0\n",
              "PhoneService        0\n",
              "MultipleLines       0\n",
              "InternetService     0\n",
              "OnlineSecurity      0\n",
              "OnlineBackup        0\n",
              "DeviceProtection    0\n",
              "TechSupport         0\n",
              "StreamingTV         0\n",
              "StreamingMovies     0\n",
              "Contract            0\n",
              "PaperlessBilling    0\n",
              "PaymentMethod       0\n",
              "MonthlyCharges      0\n",
              "TotalCharges        0\n",
              "Churn               0\n",
              "dtype: int64"
            ]
          },
          "metadata": {
            "tags": []
          },
          "execution_count": 41
        }
      ]
    },
    {
      "cell_type": "code",
      "metadata": {
        "id": "uNzl84PuP-iv"
      },
      "source": [
        "df.replace('No internet service','No',inplace=True)\n",
        "df.replace('No phone service','No',inplace=True)"
      ],
      "execution_count": null,
      "outputs": []
    },
    {
      "cell_type": "code",
      "metadata": {
        "id": "v6lFDG3Bc6MK"
      },
      "source": [
        "df['gender'].replace({'Female':1,'Male':0},inplace=True)"
      ],
      "execution_count": null,
      "outputs": []
    },
    {
      "cell_type": "code",
      "metadata": {
        "id": "qgxswS87QJBG"
      },
      "source": [
        "yes_no = ['Partner','Dependents','PhoneService','MultipleLines','OnlineSecurity','OnlineBackup',\n",
        "                  'DeviceProtection','TechSupport','StreamingTV','StreamingMovies','PaperlessBilling','Churn']\n",
        "for col in yes_no:\n",
        "    df[col].replace({'Yes': 1,'No': 0},inplace=True)"
      ],
      "execution_count": null,
      "outputs": []
    },
    {
      "cell_type": "markdown",
      "metadata": {
        "id": "tGjL-cp03tWg"
      },
      "source": [
        "One hot encoding: Finding unique values per feature and transform data"
      ]
    },
    {
      "cell_type": "code",
      "metadata": {
        "id": "RBFu3q2AKpHD",
        "colab": {
          "base_uri": "https://localhost:8080/"
        },
        "outputId": "ee31c593-b28b-4b7e-981d-a26afcde6f27"
      },
      "source": [
        "df= pd.get_dummies(data=df, columns=['InternetService','Contract','PaymentMethod'])\n",
        "df.columns"
      ],
      "execution_count": null,
      "outputs": [
        {
          "output_type": "execute_result",
          "data": {
            "text/plain": [
              "Index(['gender', 'SeniorCitizen', 'Partner', 'Dependents', 'tenure',\n",
              "       'PhoneService', 'MultipleLines', 'OnlineSecurity', 'OnlineBackup',\n",
              "       'DeviceProtection', 'TechSupport', 'StreamingTV', 'StreamingMovies',\n",
              "       'PaperlessBilling', 'MonthlyCharges', 'TotalCharges', 'Churn',\n",
              "       'InternetService_DSL', 'InternetService_Fiber optic',\n",
              "       'InternetService_No', 'Contract_Month-to-month', 'Contract_One year',\n",
              "       'Contract_Two year', 'PaymentMethod_Bank transfer (automatic)',\n",
              "       'PaymentMethod_Credit card (automatic)',\n",
              "       'PaymentMethod_Electronic check', 'PaymentMethod_Mailed check'],\n",
              "      dtype='object')"
            ]
          },
          "metadata": {
            "tags": []
          },
          "execution_count": 45
        }
      ]
    },
    {
      "cell_type": "code",
      "metadata": {
        "id": "_dR-1dc8KyRg",
        "colab": {
          "base_uri": "https://localhost:8080/",
          "height": 257
        },
        "outputId": "fe6d0990-5325-4cb3-e1ab-00d9626dd487"
      },
      "source": [
        "df.head()"
      ],
      "execution_count": null,
      "outputs": [
        {
          "output_type": "execute_result",
          "data": {
            "text/html": [
              "<div>\n",
              "<style scoped>\n",
              "    .dataframe tbody tr th:only-of-type {\n",
              "        vertical-align: middle;\n",
              "    }\n",
              "\n",
              "    .dataframe tbody tr th {\n",
              "        vertical-align: top;\n",
              "    }\n",
              "\n",
              "    .dataframe thead th {\n",
              "        text-align: right;\n",
              "    }\n",
              "</style>\n",
              "<table border=\"1\" class=\"dataframe\">\n",
              "  <thead>\n",
              "    <tr style=\"text-align: right;\">\n",
              "      <th></th>\n",
              "      <th>gender</th>\n",
              "      <th>SeniorCitizen</th>\n",
              "      <th>Partner</th>\n",
              "      <th>Dependents</th>\n",
              "      <th>tenure</th>\n",
              "      <th>PhoneService</th>\n",
              "      <th>MultipleLines</th>\n",
              "      <th>OnlineSecurity</th>\n",
              "      <th>OnlineBackup</th>\n",
              "      <th>DeviceProtection</th>\n",
              "      <th>TechSupport</th>\n",
              "      <th>StreamingTV</th>\n",
              "      <th>StreamingMovies</th>\n",
              "      <th>PaperlessBilling</th>\n",
              "      <th>MonthlyCharges</th>\n",
              "      <th>TotalCharges</th>\n",
              "      <th>Churn</th>\n",
              "      <th>InternetService_DSL</th>\n",
              "      <th>InternetService_Fiber optic</th>\n",
              "      <th>InternetService_No</th>\n",
              "      <th>Contract_Month-to-month</th>\n",
              "      <th>Contract_One year</th>\n",
              "      <th>Contract_Two year</th>\n",
              "      <th>PaymentMethod_Bank transfer (automatic)</th>\n",
              "      <th>PaymentMethod_Credit card (automatic)</th>\n",
              "      <th>PaymentMethod_Electronic check</th>\n",
              "      <th>PaymentMethod_Mailed check</th>\n",
              "    </tr>\n",
              "  </thead>\n",
              "  <tbody>\n",
              "    <tr>\n",
              "      <th>0</th>\n",
              "      <td>1</td>\n",
              "      <td>0</td>\n",
              "      <td>1</td>\n",
              "      <td>0</td>\n",
              "      <td>1</td>\n",
              "      <td>0</td>\n",
              "      <td>0</td>\n",
              "      <td>0</td>\n",
              "      <td>1</td>\n",
              "      <td>0</td>\n",
              "      <td>0</td>\n",
              "      <td>0</td>\n",
              "      <td>0</td>\n",
              "      <td>1</td>\n",
              "      <td>29.85</td>\n",
              "      <td>29.85</td>\n",
              "      <td>0</td>\n",
              "      <td>1</td>\n",
              "      <td>0</td>\n",
              "      <td>0</td>\n",
              "      <td>1</td>\n",
              "      <td>0</td>\n",
              "      <td>0</td>\n",
              "      <td>0</td>\n",
              "      <td>0</td>\n",
              "      <td>1</td>\n",
              "      <td>0</td>\n",
              "    </tr>\n",
              "    <tr>\n",
              "      <th>1</th>\n",
              "      <td>0</td>\n",
              "      <td>0</td>\n",
              "      <td>0</td>\n",
              "      <td>0</td>\n",
              "      <td>34</td>\n",
              "      <td>1</td>\n",
              "      <td>0</td>\n",
              "      <td>1</td>\n",
              "      <td>0</td>\n",
              "      <td>1</td>\n",
              "      <td>0</td>\n",
              "      <td>0</td>\n",
              "      <td>0</td>\n",
              "      <td>0</td>\n",
              "      <td>56.95</td>\n",
              "      <td>1889.5</td>\n",
              "      <td>0</td>\n",
              "      <td>1</td>\n",
              "      <td>0</td>\n",
              "      <td>0</td>\n",
              "      <td>0</td>\n",
              "      <td>1</td>\n",
              "      <td>0</td>\n",
              "      <td>0</td>\n",
              "      <td>0</td>\n",
              "      <td>0</td>\n",
              "      <td>1</td>\n",
              "    </tr>\n",
              "    <tr>\n",
              "      <th>2</th>\n",
              "      <td>0</td>\n",
              "      <td>0</td>\n",
              "      <td>0</td>\n",
              "      <td>0</td>\n",
              "      <td>2</td>\n",
              "      <td>1</td>\n",
              "      <td>0</td>\n",
              "      <td>1</td>\n",
              "      <td>1</td>\n",
              "      <td>0</td>\n",
              "      <td>0</td>\n",
              "      <td>0</td>\n",
              "      <td>0</td>\n",
              "      <td>1</td>\n",
              "      <td>53.85</td>\n",
              "      <td>108.15</td>\n",
              "      <td>1</td>\n",
              "      <td>1</td>\n",
              "      <td>0</td>\n",
              "      <td>0</td>\n",
              "      <td>1</td>\n",
              "      <td>0</td>\n",
              "      <td>0</td>\n",
              "      <td>0</td>\n",
              "      <td>0</td>\n",
              "      <td>0</td>\n",
              "      <td>1</td>\n",
              "    </tr>\n",
              "    <tr>\n",
              "      <th>3</th>\n",
              "      <td>0</td>\n",
              "      <td>0</td>\n",
              "      <td>0</td>\n",
              "      <td>0</td>\n",
              "      <td>45</td>\n",
              "      <td>0</td>\n",
              "      <td>0</td>\n",
              "      <td>1</td>\n",
              "      <td>0</td>\n",
              "      <td>1</td>\n",
              "      <td>1</td>\n",
              "      <td>0</td>\n",
              "      <td>0</td>\n",
              "      <td>0</td>\n",
              "      <td>42.30</td>\n",
              "      <td>1840.75</td>\n",
              "      <td>0</td>\n",
              "      <td>1</td>\n",
              "      <td>0</td>\n",
              "      <td>0</td>\n",
              "      <td>0</td>\n",
              "      <td>1</td>\n",
              "      <td>0</td>\n",
              "      <td>1</td>\n",
              "      <td>0</td>\n",
              "      <td>0</td>\n",
              "      <td>0</td>\n",
              "    </tr>\n",
              "    <tr>\n",
              "      <th>4</th>\n",
              "      <td>1</td>\n",
              "      <td>0</td>\n",
              "      <td>0</td>\n",
              "      <td>0</td>\n",
              "      <td>2</td>\n",
              "      <td>1</td>\n",
              "      <td>0</td>\n",
              "      <td>0</td>\n",
              "      <td>0</td>\n",
              "      <td>0</td>\n",
              "      <td>0</td>\n",
              "      <td>0</td>\n",
              "      <td>0</td>\n",
              "      <td>1</td>\n",
              "      <td>70.70</td>\n",
              "      <td>151.65</td>\n",
              "      <td>1</td>\n",
              "      <td>0</td>\n",
              "      <td>1</td>\n",
              "      <td>0</td>\n",
              "      <td>1</td>\n",
              "      <td>0</td>\n",
              "      <td>0</td>\n",
              "      <td>0</td>\n",
              "      <td>0</td>\n",
              "      <td>1</td>\n",
              "      <td>0</td>\n",
              "    </tr>\n",
              "  </tbody>\n",
              "</table>\n",
              "</div>"
            ],
            "text/plain": [
              "   gender  ...  PaymentMethod_Mailed check\n",
              "0       1  ...                           0\n",
              "1       0  ...                           1\n",
              "2       0  ...                           1\n",
              "3       0  ...                           0\n",
              "4       1  ...                           0\n",
              "\n",
              "[5 rows x 27 columns]"
            ]
          },
          "metadata": {
            "tags": []
          },
          "execution_count": 46
        }
      ]
    },
    {
      "cell_type": "code",
      "metadata": {
        "id": "oSV2jS1DYK8m",
        "colab": {
          "base_uri": "https://localhost:8080/",
          "height": 110
        },
        "outputId": "c053c649-bc29-4294-9d6c-85cab24ce823"
      },
      "source": [
        "churn_count=pd.DataFrame(df['Churn'].value_counts())\n",
        "churn_count"
      ],
      "execution_count": null,
      "outputs": [
        {
          "output_type": "execute_result",
          "data": {
            "text/html": [
              "<div>\n",
              "<style scoped>\n",
              "    .dataframe tbody tr th:only-of-type {\n",
              "        vertical-align: middle;\n",
              "    }\n",
              "\n",
              "    .dataframe tbody tr th {\n",
              "        vertical-align: top;\n",
              "    }\n",
              "\n",
              "    .dataframe thead th {\n",
              "        text-align: right;\n",
              "    }\n",
              "</style>\n",
              "<table border=\"1\" class=\"dataframe\">\n",
              "  <thead>\n",
              "    <tr style=\"text-align: right;\">\n",
              "      <th></th>\n",
              "      <th>Churn</th>\n",
              "    </tr>\n",
              "  </thead>\n",
              "  <tbody>\n",
              "    <tr>\n",
              "      <th>0</th>\n",
              "      <td>5163</td>\n",
              "    </tr>\n",
              "    <tr>\n",
              "      <th>1</th>\n",
              "      <td>1869</td>\n",
              "    </tr>\n",
              "  </tbody>\n",
              "</table>\n",
              "</div>"
            ],
            "text/plain": [
              "   Churn\n",
              "0   5163\n",
              "1   1869"
            ]
          },
          "metadata": {
            "tags": []
          },
          "execution_count": 47
        }
      ]
    },
    {
      "cell_type": "markdown",
      "metadata": {
        "id": "8Se9jlYW3mzM"
      },
      "source": [
        "Overall Churn rate is low\n"
      ]
    },
    {
      "cell_type": "code",
      "metadata": {
        "id": "RCpbOP8IZgoR",
        "colab": {
          "base_uri": "https://localhost:8080/",
          "height": 970
        },
        "outputId": "774c5f88-a4be-4b3c-b60f-10f9b3e4652a"
      },
      "source": [
        "df.corr()"
      ],
      "execution_count": null,
      "outputs": [
        {
          "output_type": "execute_result",
          "data": {
            "text/html": [
              "<div>\n",
              "<style scoped>\n",
              "    .dataframe tbody tr th:only-of-type {\n",
              "        vertical-align: middle;\n",
              "    }\n",
              "\n",
              "    .dataframe tbody tr th {\n",
              "        vertical-align: top;\n",
              "    }\n",
              "\n",
              "    .dataframe thead th {\n",
              "        text-align: right;\n",
              "    }\n",
              "</style>\n",
              "<table border=\"1\" class=\"dataframe\">\n",
              "  <thead>\n",
              "    <tr style=\"text-align: right;\">\n",
              "      <th></th>\n",
              "      <th>gender</th>\n",
              "      <th>SeniorCitizen</th>\n",
              "      <th>Partner</th>\n",
              "      <th>Dependents</th>\n",
              "      <th>tenure</th>\n",
              "      <th>PhoneService</th>\n",
              "      <th>MultipleLines</th>\n",
              "      <th>OnlineSecurity</th>\n",
              "      <th>OnlineBackup</th>\n",
              "      <th>DeviceProtection</th>\n",
              "      <th>TechSupport</th>\n",
              "      <th>StreamingTV</th>\n",
              "      <th>StreamingMovies</th>\n",
              "      <th>PaperlessBilling</th>\n",
              "      <th>MonthlyCharges</th>\n",
              "      <th>Churn</th>\n",
              "      <th>InternetService_DSL</th>\n",
              "      <th>InternetService_Fiber optic</th>\n",
              "      <th>InternetService_No</th>\n",
              "      <th>Contract_Month-to-month</th>\n",
              "      <th>Contract_One year</th>\n",
              "      <th>Contract_Two year</th>\n",
              "      <th>PaymentMethod_Bank transfer (automatic)</th>\n",
              "      <th>PaymentMethod_Credit card (automatic)</th>\n",
              "      <th>PaymentMethod_Electronic check</th>\n",
              "      <th>PaymentMethod_Mailed check</th>\n",
              "    </tr>\n",
              "  </thead>\n",
              "  <tbody>\n",
              "    <tr>\n",
              "      <th>gender</th>\n",
              "      <td>1.000000</td>\n",
              "      <td>0.001819</td>\n",
              "      <td>0.001379</td>\n",
              "      <td>-0.010349</td>\n",
              "      <td>-0.005285</td>\n",
              "      <td>0.007515</td>\n",
              "      <td>0.008883</td>\n",
              "      <td>0.016328</td>\n",
              "      <td>0.013093</td>\n",
              "      <td>0.000807</td>\n",
              "      <td>0.008507</td>\n",
              "      <td>0.007124</td>\n",
              "      <td>0.010105</td>\n",
              "      <td>0.011902</td>\n",
              "      <td>0.013779</td>\n",
              "      <td>0.008545</td>\n",
              "      <td>-0.007584</td>\n",
              "      <td>0.011189</td>\n",
              "      <td>-0.004745</td>\n",
              "      <td>0.003251</td>\n",
              "      <td>-0.007755</td>\n",
              "      <td>0.003603</td>\n",
              "      <td>0.015973</td>\n",
              "      <td>-0.001632</td>\n",
              "      <td>-0.000844</td>\n",
              "      <td>-0.013199</td>\n",
              "    </tr>\n",
              "    <tr>\n",
              "      <th>SeniorCitizen</th>\n",
              "      <td>0.001819</td>\n",
              "      <td>1.000000</td>\n",
              "      <td>0.016957</td>\n",
              "      <td>-0.210550</td>\n",
              "      <td>0.015683</td>\n",
              "      <td>0.008392</td>\n",
              "      <td>0.142996</td>\n",
              "      <td>-0.038576</td>\n",
              "      <td>0.066663</td>\n",
              "      <td>0.059514</td>\n",
              "      <td>-0.060577</td>\n",
              "      <td>0.105445</td>\n",
              "      <td>0.119842</td>\n",
              "      <td>0.156258</td>\n",
              "      <td>0.219874</td>\n",
              "      <td>0.150541</td>\n",
              "      <td>-0.108276</td>\n",
              "      <td>0.254923</td>\n",
              "      <td>-0.182519</td>\n",
              "      <td>0.137752</td>\n",
              "      <td>-0.046491</td>\n",
              "      <td>-0.116205</td>\n",
              "      <td>-0.016235</td>\n",
              "      <td>-0.024359</td>\n",
              "      <td>0.171322</td>\n",
              "      <td>-0.152987</td>\n",
              "    </tr>\n",
              "    <tr>\n",
              "      <th>Partner</th>\n",
              "      <td>0.001379</td>\n",
              "      <td>0.016957</td>\n",
              "      <td>1.000000</td>\n",
              "      <td>0.452269</td>\n",
              "      <td>0.381912</td>\n",
              "      <td>0.018397</td>\n",
              "      <td>0.142561</td>\n",
              "      <td>0.143346</td>\n",
              "      <td>0.141849</td>\n",
              "      <td>0.153556</td>\n",
              "      <td>0.120206</td>\n",
              "      <td>0.124483</td>\n",
              "      <td>0.118108</td>\n",
              "      <td>-0.013957</td>\n",
              "      <td>0.097825</td>\n",
              "      <td>-0.149982</td>\n",
              "      <td>-0.001043</td>\n",
              "      <td>0.001235</td>\n",
              "      <td>-0.000286</td>\n",
              "      <td>-0.280202</td>\n",
              "      <td>0.083067</td>\n",
              "      <td>0.247334</td>\n",
              "      <td>0.111406</td>\n",
              "      <td>0.082327</td>\n",
              "      <td>-0.083207</td>\n",
              "      <td>-0.096948</td>\n",
              "    </tr>\n",
              "    <tr>\n",
              "      <th>Dependents</th>\n",
              "      <td>-0.010349</td>\n",
              "      <td>-0.210550</td>\n",
              "      <td>0.452269</td>\n",
              "      <td>1.000000</td>\n",
              "      <td>0.163386</td>\n",
              "      <td>-0.001078</td>\n",
              "      <td>-0.024307</td>\n",
              "      <td>0.080786</td>\n",
              "      <td>0.023639</td>\n",
              "      <td>0.013900</td>\n",
              "      <td>0.063053</td>\n",
              "      <td>-0.016499</td>\n",
              "      <td>-0.038375</td>\n",
              "      <td>-0.110131</td>\n",
              "      <td>-0.112343</td>\n",
              "      <td>-0.163128</td>\n",
              "      <td>0.051593</td>\n",
              "      <td>-0.164101</td>\n",
              "      <td>0.138383</td>\n",
              "      <td>-0.229715</td>\n",
              "      <td>0.069222</td>\n",
              "      <td>0.201699</td>\n",
              "      <td>0.052369</td>\n",
              "      <td>0.061134</td>\n",
              "      <td>-0.149274</td>\n",
              "      <td>0.056448</td>\n",
              "    </tr>\n",
              "    <tr>\n",
              "      <th>tenure</th>\n",
              "      <td>-0.005285</td>\n",
              "      <td>0.015683</td>\n",
              "      <td>0.381912</td>\n",
              "      <td>0.163386</td>\n",
              "      <td>1.000000</td>\n",
              "      <td>0.007877</td>\n",
              "      <td>0.332399</td>\n",
              "      <td>0.328297</td>\n",
              "      <td>0.361138</td>\n",
              "      <td>0.361520</td>\n",
              "      <td>0.325288</td>\n",
              "      <td>0.280264</td>\n",
              "      <td>0.285402</td>\n",
              "      <td>0.004823</td>\n",
              "      <td>0.246862</td>\n",
              "      <td>-0.354049</td>\n",
              "      <td>0.013786</td>\n",
              "      <td>0.017930</td>\n",
              "      <td>-0.037529</td>\n",
              "      <td>-0.649346</td>\n",
              "      <td>0.202338</td>\n",
              "      <td>0.563801</td>\n",
              "      <td>0.243822</td>\n",
              "      <td>0.232800</td>\n",
              "      <td>-0.210197</td>\n",
              "      <td>-0.232181</td>\n",
              "    </tr>\n",
              "    <tr>\n",
              "      <th>PhoneService</th>\n",
              "      <td>0.007515</td>\n",
              "      <td>0.008392</td>\n",
              "      <td>0.018397</td>\n",
              "      <td>-0.001078</td>\n",
              "      <td>0.007877</td>\n",
              "      <td>1.000000</td>\n",
              "      <td>0.279530</td>\n",
              "      <td>-0.091676</td>\n",
              "      <td>-0.052133</td>\n",
              "      <td>-0.070076</td>\n",
              "      <td>-0.095138</td>\n",
              "      <td>-0.021383</td>\n",
              "      <td>-0.033477</td>\n",
              "      <td>0.016696</td>\n",
              "      <td>0.248033</td>\n",
              "      <td>0.011691</td>\n",
              "      <td>-0.452255</td>\n",
              "      <td>0.290183</td>\n",
              "      <td>0.171817</td>\n",
              "      <td>-0.001243</td>\n",
              "      <td>-0.003142</td>\n",
              "      <td>0.004442</td>\n",
              "      <td>0.008271</td>\n",
              "      <td>-0.006916</td>\n",
              "      <td>0.002747</td>\n",
              "      <td>-0.004463</td>\n",
              "    </tr>\n",
              "    <tr>\n",
              "      <th>MultipleLines</th>\n",
              "      <td>0.008883</td>\n",
              "      <td>0.142996</td>\n",
              "      <td>0.142561</td>\n",
              "      <td>-0.024307</td>\n",
              "      <td>0.332399</td>\n",
              "      <td>0.279530</td>\n",
              "      <td>1.000000</td>\n",
              "      <td>0.098592</td>\n",
              "      <td>0.202228</td>\n",
              "      <td>0.201733</td>\n",
              "      <td>0.100421</td>\n",
              "      <td>0.257804</td>\n",
              "      <td>0.259194</td>\n",
              "      <td>0.163746</td>\n",
              "      <td>0.490912</td>\n",
              "      <td>0.040033</td>\n",
              "      <td>-0.200318</td>\n",
              "      <td>0.366420</td>\n",
              "      <td>-0.210794</td>\n",
              "      <td>-0.088558</td>\n",
              "      <td>-0.003594</td>\n",
              "      <td>0.106618</td>\n",
              "      <td>0.075429</td>\n",
              "      <td>0.060319</td>\n",
              "      <td>0.083583</td>\n",
              "      <td>-0.227672</td>\n",
              "    </tr>\n",
              "    <tr>\n",
              "      <th>OnlineSecurity</th>\n",
              "      <td>0.016328</td>\n",
              "      <td>-0.038576</td>\n",
              "      <td>0.143346</td>\n",
              "      <td>0.080786</td>\n",
              "      <td>0.328297</td>\n",
              "      <td>-0.091676</td>\n",
              "      <td>0.098592</td>\n",
              "      <td>1.000000</td>\n",
              "      <td>0.283285</td>\n",
              "      <td>0.274875</td>\n",
              "      <td>0.354458</td>\n",
              "      <td>0.175514</td>\n",
              "      <td>0.187426</td>\n",
              "      <td>-0.004051</td>\n",
              "      <td>0.296447</td>\n",
              "      <td>-0.171270</td>\n",
              "      <td>0.320343</td>\n",
              "      <td>-0.030506</td>\n",
              "      <td>-0.332799</td>\n",
              "      <td>-0.246844</td>\n",
              "      <td>0.100658</td>\n",
              "      <td>0.191698</td>\n",
              "      <td>0.094366</td>\n",
              "      <td>0.115473</td>\n",
              "      <td>-0.112295</td>\n",
              "      <td>-0.079918</td>\n",
              "    </tr>\n",
              "    <tr>\n",
              "      <th>OnlineBackup</th>\n",
              "      <td>0.013093</td>\n",
              "      <td>0.066663</td>\n",
              "      <td>0.141849</td>\n",
              "      <td>0.023639</td>\n",
              "      <td>0.361138</td>\n",
              "      <td>-0.052133</td>\n",
              "      <td>0.202228</td>\n",
              "      <td>0.283285</td>\n",
              "      <td>1.000000</td>\n",
              "      <td>0.303058</td>\n",
              "      <td>0.293705</td>\n",
              "      <td>0.281601</td>\n",
              "      <td>0.274523</td>\n",
              "      <td>0.127056</td>\n",
              "      <td>0.441529</td>\n",
              "      <td>-0.082307</td>\n",
              "      <td>0.156765</td>\n",
              "      <td>0.165940</td>\n",
              "      <td>-0.380990</td>\n",
              "      <td>-0.164393</td>\n",
              "      <td>0.084113</td>\n",
              "      <td>0.111391</td>\n",
              "      <td>0.086942</td>\n",
              "      <td>0.090455</td>\n",
              "      <td>-0.000364</td>\n",
              "      <td>-0.174075</td>\n",
              "    </tr>\n",
              "    <tr>\n",
              "      <th>DeviceProtection</th>\n",
              "      <td>0.000807</td>\n",
              "      <td>0.059514</td>\n",
              "      <td>0.153556</td>\n",
              "      <td>0.013900</td>\n",
              "      <td>0.361520</td>\n",
              "      <td>-0.070076</td>\n",
              "      <td>0.201733</td>\n",
              "      <td>0.274875</td>\n",
              "      <td>0.303058</td>\n",
              "      <td>1.000000</td>\n",
              "      <td>0.332850</td>\n",
              "      <td>0.389924</td>\n",
              "      <td>0.402309</td>\n",
              "      <td>0.104079</td>\n",
              "      <td>0.482607</td>\n",
              "      <td>-0.066193</td>\n",
              "      <td>0.145150</td>\n",
              "      <td>0.176356</td>\n",
              "      <td>-0.380151</td>\n",
              "      <td>-0.225988</td>\n",
              "      <td>0.102911</td>\n",
              "      <td>0.165248</td>\n",
              "      <td>0.083047</td>\n",
              "      <td>0.111252</td>\n",
              "      <td>-0.003308</td>\n",
              "      <td>-0.187325</td>\n",
              "    </tr>\n",
              "    <tr>\n",
              "      <th>TechSupport</th>\n",
              "      <td>0.008507</td>\n",
              "      <td>-0.060577</td>\n",
              "      <td>0.120206</td>\n",
              "      <td>0.063053</td>\n",
              "      <td>0.325288</td>\n",
              "      <td>-0.095138</td>\n",
              "      <td>0.100421</td>\n",
              "      <td>0.354458</td>\n",
              "      <td>0.293705</td>\n",
              "      <td>0.332850</td>\n",
              "      <td>1.000000</td>\n",
              "      <td>0.277549</td>\n",
              "      <td>0.280155</td>\n",
              "      <td>0.037536</td>\n",
              "      <td>0.338301</td>\n",
              "      <td>-0.164716</td>\n",
              "      <td>0.312183</td>\n",
              "      <td>-0.020299</td>\n",
              "      <td>-0.335695</td>\n",
              "      <td>-0.285491</td>\n",
              "      <td>0.096258</td>\n",
              "      <td>0.240924</td>\n",
              "      <td>0.100472</td>\n",
              "      <td>0.117024</td>\n",
              "      <td>-0.114807</td>\n",
              "      <td>-0.084631</td>\n",
              "    </tr>\n",
              "    <tr>\n",
              "      <th>StreamingTV</th>\n",
              "      <td>0.007124</td>\n",
              "      <td>0.105445</td>\n",
              "      <td>0.124483</td>\n",
              "      <td>-0.016499</td>\n",
              "      <td>0.280264</td>\n",
              "      <td>-0.021383</td>\n",
              "      <td>0.257804</td>\n",
              "      <td>0.175514</td>\n",
              "      <td>0.281601</td>\n",
              "      <td>0.389924</td>\n",
              "      <td>0.277549</td>\n",
              "      <td>1.000000</td>\n",
              "      <td>0.533380</td>\n",
              "      <td>0.224241</td>\n",
              "      <td>0.629668</td>\n",
              "      <td>0.063254</td>\n",
              "      <td>0.014973</td>\n",
              "      <td>0.329744</td>\n",
              "      <td>-0.414951</td>\n",
              "      <td>-0.112550</td>\n",
              "      <td>0.061930</td>\n",
              "      <td>0.072124</td>\n",
              "      <td>0.046121</td>\n",
              "      <td>0.040010</td>\n",
              "      <td>0.144747</td>\n",
              "      <td>-0.247712</td>\n",
              "    </tr>\n",
              "    <tr>\n",
              "      <th>StreamingMovies</th>\n",
              "      <td>0.010105</td>\n",
              "      <td>0.119842</td>\n",
              "      <td>0.118108</td>\n",
              "      <td>-0.038375</td>\n",
              "      <td>0.285402</td>\n",
              "      <td>-0.033477</td>\n",
              "      <td>0.259194</td>\n",
              "      <td>0.187426</td>\n",
              "      <td>0.274523</td>\n",
              "      <td>0.402309</td>\n",
              "      <td>0.280155</td>\n",
              "      <td>0.533380</td>\n",
              "      <td>1.000000</td>\n",
              "      <td>0.211583</td>\n",
              "      <td>0.627235</td>\n",
              "      <td>0.060860</td>\n",
              "      <td>0.025623</td>\n",
              "      <td>0.322457</td>\n",
              "      <td>-0.418450</td>\n",
              "      <td>-0.117867</td>\n",
              "      <td>0.064780</td>\n",
              "      <td>0.075603</td>\n",
              "      <td>0.048755</td>\n",
              "      <td>0.048398</td>\n",
              "      <td>0.137420</td>\n",
              "      <td>-0.250290</td>\n",
              "    </tr>\n",
              "    <tr>\n",
              "      <th>PaperlessBilling</th>\n",
              "      <td>0.011902</td>\n",
              "      <td>0.156258</td>\n",
              "      <td>-0.013957</td>\n",
              "      <td>-0.110131</td>\n",
              "      <td>0.004823</td>\n",
              "      <td>0.016696</td>\n",
              "      <td>0.163746</td>\n",
              "      <td>-0.004051</td>\n",
              "      <td>0.127056</td>\n",
              "      <td>0.104079</td>\n",
              "      <td>0.037536</td>\n",
              "      <td>0.224241</td>\n",
              "      <td>0.211583</td>\n",
              "      <td>1.000000</td>\n",
              "      <td>0.351930</td>\n",
              "      <td>0.191454</td>\n",
              "      <td>-0.063390</td>\n",
              "      <td>0.326470</td>\n",
              "      <td>-0.320592</td>\n",
              "      <td>0.168296</td>\n",
              "      <td>-0.052278</td>\n",
              "      <td>-0.146281</td>\n",
              "      <td>-0.017469</td>\n",
              "      <td>-0.013726</td>\n",
              "      <td>0.208427</td>\n",
              "      <td>-0.203981</td>\n",
              "    </tr>\n",
              "    <tr>\n",
              "      <th>MonthlyCharges</th>\n",
              "      <td>0.013779</td>\n",
              "      <td>0.219874</td>\n",
              "      <td>0.097825</td>\n",
              "      <td>-0.112343</td>\n",
              "      <td>0.246862</td>\n",
              "      <td>0.248033</td>\n",
              "      <td>0.490912</td>\n",
              "      <td>0.296447</td>\n",
              "      <td>0.441529</td>\n",
              "      <td>0.482607</td>\n",
              "      <td>0.338301</td>\n",
              "      <td>0.629668</td>\n",
              "      <td>0.627235</td>\n",
              "      <td>0.351930</td>\n",
              "      <td>1.000000</td>\n",
              "      <td>0.192858</td>\n",
              "      <td>-0.161368</td>\n",
              "      <td>0.787195</td>\n",
              "      <td>-0.763191</td>\n",
              "      <td>0.058933</td>\n",
              "      <td>0.004810</td>\n",
              "      <td>-0.073256</td>\n",
              "      <td>0.042410</td>\n",
              "      <td>0.030055</td>\n",
              "      <td>0.271117</td>\n",
              "      <td>-0.376568</td>\n",
              "    </tr>\n",
              "    <tr>\n",
              "      <th>Churn</th>\n",
              "      <td>0.008545</td>\n",
              "      <td>0.150541</td>\n",
              "      <td>-0.149982</td>\n",
              "      <td>-0.163128</td>\n",
              "      <td>-0.354049</td>\n",
              "      <td>0.011691</td>\n",
              "      <td>0.040033</td>\n",
              "      <td>-0.171270</td>\n",
              "      <td>-0.082307</td>\n",
              "      <td>-0.066193</td>\n",
              "      <td>-0.164716</td>\n",
              "      <td>0.063254</td>\n",
              "      <td>0.060860</td>\n",
              "      <td>0.191454</td>\n",
              "      <td>0.192858</td>\n",
              "      <td>1.000000</td>\n",
              "      <td>-0.124141</td>\n",
              "      <td>0.307463</td>\n",
              "      <td>-0.227578</td>\n",
              "      <td>0.404565</td>\n",
              "      <td>-0.178225</td>\n",
              "      <td>-0.301552</td>\n",
              "      <td>-0.118136</td>\n",
              "      <td>-0.134687</td>\n",
              "      <td>0.301455</td>\n",
              "      <td>-0.090773</td>\n",
              "    </tr>\n",
              "    <tr>\n",
              "      <th>InternetService_DSL</th>\n",
              "      <td>-0.007584</td>\n",
              "      <td>-0.108276</td>\n",
              "      <td>-0.001043</td>\n",
              "      <td>0.051593</td>\n",
              "      <td>0.013786</td>\n",
              "      <td>-0.452255</td>\n",
              "      <td>-0.200318</td>\n",
              "      <td>0.320343</td>\n",
              "      <td>0.156765</td>\n",
              "      <td>0.145150</td>\n",
              "      <td>0.312183</td>\n",
              "      <td>0.014973</td>\n",
              "      <td>0.025623</td>\n",
              "      <td>-0.063390</td>\n",
              "      <td>-0.161368</td>\n",
              "      <td>-0.124141</td>\n",
              "      <td>1.000000</td>\n",
              "      <td>-0.641636</td>\n",
              "      <td>-0.379912</td>\n",
              "      <td>-0.065226</td>\n",
              "      <td>0.047300</td>\n",
              "      <td>0.030924</td>\n",
              "      <td>0.024760</td>\n",
              "      <td>0.051222</td>\n",
              "      <td>-0.104293</td>\n",
              "      <td>0.042754</td>\n",
              "    </tr>\n",
              "    <tr>\n",
              "      <th>InternetService_Fiber optic</th>\n",
              "      <td>0.011189</td>\n",
              "      <td>0.254923</td>\n",
              "      <td>0.001235</td>\n",
              "      <td>-0.164101</td>\n",
              "      <td>0.017930</td>\n",
              "      <td>0.290183</td>\n",
              "      <td>0.366420</td>\n",
              "      <td>-0.030506</td>\n",
              "      <td>0.165940</td>\n",
              "      <td>0.176356</td>\n",
              "      <td>-0.020299</td>\n",
              "      <td>0.329744</td>\n",
              "      <td>0.322457</td>\n",
              "      <td>0.326470</td>\n",
              "      <td>0.787195</td>\n",
              "      <td>0.307463</td>\n",
              "      <td>-0.641636</td>\n",
              "      <td>1.000000</td>\n",
              "      <td>-0.465736</td>\n",
              "      <td>0.243014</td>\n",
              "      <td>-0.076809</td>\n",
              "      <td>-0.209965</td>\n",
              "      <td>-0.022779</td>\n",
              "      <td>-0.050552</td>\n",
              "      <td>0.335763</td>\n",
              "      <td>-0.305984</td>\n",
              "    </tr>\n",
              "    <tr>\n",
              "      <th>InternetService_No</th>\n",
              "      <td>-0.004745</td>\n",
              "      <td>-0.182519</td>\n",
              "      <td>-0.000286</td>\n",
              "      <td>0.138383</td>\n",
              "      <td>-0.037529</td>\n",
              "      <td>0.171817</td>\n",
              "      <td>-0.210794</td>\n",
              "      <td>-0.332799</td>\n",
              "      <td>-0.380990</td>\n",
              "      <td>-0.380151</td>\n",
              "      <td>-0.335695</td>\n",
              "      <td>-0.414951</td>\n",
              "      <td>-0.418450</td>\n",
              "      <td>-0.320592</td>\n",
              "      <td>-0.763191</td>\n",
              "      <td>-0.227578</td>\n",
              "      <td>-0.379912</td>\n",
              "      <td>-0.465736</td>\n",
              "      <td>1.000000</td>\n",
              "      <td>-0.217824</td>\n",
              "      <td>0.038061</td>\n",
              "      <td>0.217542</td>\n",
              "      <td>-0.001094</td>\n",
              "      <td>0.001870</td>\n",
              "      <td>-0.284608</td>\n",
              "      <td>0.319694</td>\n",
              "    </tr>\n",
              "    <tr>\n",
              "      <th>Contract_Month-to-month</th>\n",
              "      <td>0.003251</td>\n",
              "      <td>0.137752</td>\n",
              "      <td>-0.280202</td>\n",
              "      <td>-0.229715</td>\n",
              "      <td>-0.649346</td>\n",
              "      <td>-0.001243</td>\n",
              "      <td>-0.088558</td>\n",
              "      <td>-0.246844</td>\n",
              "      <td>-0.164393</td>\n",
              "      <td>-0.225988</td>\n",
              "      <td>-0.285491</td>\n",
              "      <td>-0.112550</td>\n",
              "      <td>-0.117867</td>\n",
              "      <td>0.168296</td>\n",
              "      <td>0.058933</td>\n",
              "      <td>0.404565</td>\n",
              "      <td>-0.065226</td>\n",
              "      <td>0.243014</td>\n",
              "      <td>-0.217824</td>\n",
              "      <td>1.000000</td>\n",
              "      <td>-0.570053</td>\n",
              "      <td>-0.621933</td>\n",
              "      <td>-0.180159</td>\n",
              "      <td>-0.204960</td>\n",
              "      <td>0.330879</td>\n",
              "      <td>0.006209</td>\n",
              "    </tr>\n",
              "    <tr>\n",
              "      <th>Contract_One year</th>\n",
              "      <td>-0.007755</td>\n",
              "      <td>-0.046491</td>\n",
              "      <td>0.083067</td>\n",
              "      <td>0.069222</td>\n",
              "      <td>0.202338</td>\n",
              "      <td>-0.003142</td>\n",
              "      <td>-0.003594</td>\n",
              "      <td>0.100658</td>\n",
              "      <td>0.084113</td>\n",
              "      <td>0.102911</td>\n",
              "      <td>0.096258</td>\n",
              "      <td>0.061930</td>\n",
              "      <td>0.064780</td>\n",
              "      <td>-0.052278</td>\n",
              "      <td>0.004810</td>\n",
              "      <td>-0.178225</td>\n",
              "      <td>0.047300</td>\n",
              "      <td>-0.076809</td>\n",
              "      <td>0.038061</td>\n",
              "      <td>-0.570053</td>\n",
              "      <td>1.000000</td>\n",
              "      <td>-0.288843</td>\n",
              "      <td>0.057629</td>\n",
              "      <td>0.067590</td>\n",
              "      <td>-0.109546</td>\n",
              "      <td>0.000197</td>\n",
              "    </tr>\n",
              "    <tr>\n",
              "      <th>Contract_Two year</th>\n",
              "      <td>0.003603</td>\n",
              "      <td>-0.116205</td>\n",
              "      <td>0.247334</td>\n",
              "      <td>0.201699</td>\n",
              "      <td>0.563801</td>\n",
              "      <td>0.004442</td>\n",
              "      <td>0.106618</td>\n",
              "      <td>0.191698</td>\n",
              "      <td>0.111391</td>\n",
              "      <td>0.165248</td>\n",
              "      <td>0.240924</td>\n",
              "      <td>0.072124</td>\n",
              "      <td>0.075603</td>\n",
              "      <td>-0.146281</td>\n",
              "      <td>-0.073256</td>\n",
              "      <td>-0.301552</td>\n",
              "      <td>0.030924</td>\n",
              "      <td>-0.209965</td>\n",
              "      <td>0.217542</td>\n",
              "      <td>-0.621933</td>\n",
              "      <td>-0.288843</td>\n",
              "      <td>1.000000</td>\n",
              "      <td>0.155004</td>\n",
              "      <td>0.174410</td>\n",
              "      <td>-0.281147</td>\n",
              "      <td>-0.007423</td>\n",
              "    </tr>\n",
              "    <tr>\n",
              "      <th>PaymentMethod_Bank transfer (automatic)</th>\n",
              "      <td>0.015973</td>\n",
              "      <td>-0.016235</td>\n",
              "      <td>0.111406</td>\n",
              "      <td>0.052369</td>\n",
              "      <td>0.243822</td>\n",
              "      <td>0.008271</td>\n",
              "      <td>0.075429</td>\n",
              "      <td>0.094366</td>\n",
              "      <td>0.086942</td>\n",
              "      <td>0.083047</td>\n",
              "      <td>0.100472</td>\n",
              "      <td>0.046121</td>\n",
              "      <td>0.048755</td>\n",
              "      <td>-0.017469</td>\n",
              "      <td>0.042410</td>\n",
              "      <td>-0.118136</td>\n",
              "      <td>0.024760</td>\n",
              "      <td>-0.022779</td>\n",
              "      <td>-0.001094</td>\n",
              "      <td>-0.180159</td>\n",
              "      <td>0.057629</td>\n",
              "      <td>0.155004</td>\n",
              "      <td>1.000000</td>\n",
              "      <td>-0.278423</td>\n",
              "      <td>-0.377270</td>\n",
              "      <td>-0.288097</td>\n",
              "    </tr>\n",
              "    <tr>\n",
              "      <th>PaymentMethod_Credit card (automatic)</th>\n",
              "      <td>-0.001632</td>\n",
              "      <td>-0.024359</td>\n",
              "      <td>0.082327</td>\n",
              "      <td>0.061134</td>\n",
              "      <td>0.232800</td>\n",
              "      <td>-0.006916</td>\n",
              "      <td>0.060319</td>\n",
              "      <td>0.115473</td>\n",
              "      <td>0.090455</td>\n",
              "      <td>0.111252</td>\n",
              "      <td>0.117024</td>\n",
              "      <td>0.040010</td>\n",
              "      <td>0.048398</td>\n",
              "      <td>-0.013726</td>\n",
              "      <td>0.030055</td>\n",
              "      <td>-0.134687</td>\n",
              "      <td>0.051222</td>\n",
              "      <td>-0.050552</td>\n",
              "      <td>0.001870</td>\n",
              "      <td>-0.204960</td>\n",
              "      <td>0.067590</td>\n",
              "      <td>0.174410</td>\n",
              "      <td>-0.278423</td>\n",
              "      <td>1.000000</td>\n",
              "      <td>-0.373978</td>\n",
              "      <td>-0.285583</td>\n",
              "    </tr>\n",
              "    <tr>\n",
              "      <th>PaymentMethod_Electronic check</th>\n",
              "      <td>-0.000844</td>\n",
              "      <td>0.171322</td>\n",
              "      <td>-0.083207</td>\n",
              "      <td>-0.149274</td>\n",
              "      <td>-0.210197</td>\n",
              "      <td>0.002747</td>\n",
              "      <td>0.083583</td>\n",
              "      <td>-0.112295</td>\n",
              "      <td>-0.000364</td>\n",
              "      <td>-0.003308</td>\n",
              "      <td>-0.114807</td>\n",
              "      <td>0.144747</td>\n",
              "      <td>0.137420</td>\n",
              "      <td>0.208427</td>\n",
              "      <td>0.271117</td>\n",
              "      <td>0.301455</td>\n",
              "      <td>-0.104293</td>\n",
              "      <td>0.335763</td>\n",
              "      <td>-0.284608</td>\n",
              "      <td>0.330879</td>\n",
              "      <td>-0.109546</td>\n",
              "      <td>-0.281147</td>\n",
              "      <td>-0.377270</td>\n",
              "      <td>-0.373978</td>\n",
              "      <td>1.000000</td>\n",
              "      <td>-0.386971</td>\n",
              "    </tr>\n",
              "    <tr>\n",
              "      <th>PaymentMethod_Mailed check</th>\n",
              "      <td>-0.013199</td>\n",
              "      <td>-0.152987</td>\n",
              "      <td>-0.096948</td>\n",
              "      <td>0.056448</td>\n",
              "      <td>-0.232181</td>\n",
              "      <td>-0.004463</td>\n",
              "      <td>-0.227672</td>\n",
              "      <td>-0.079918</td>\n",
              "      <td>-0.174075</td>\n",
              "      <td>-0.187325</td>\n",
              "      <td>-0.084631</td>\n",
              "      <td>-0.247712</td>\n",
              "      <td>-0.250290</td>\n",
              "      <td>-0.203981</td>\n",
              "      <td>-0.376568</td>\n",
              "      <td>-0.090773</td>\n",
              "      <td>0.042754</td>\n",
              "      <td>-0.305984</td>\n",
              "      <td>0.319694</td>\n",
              "      <td>0.006209</td>\n",
              "      <td>0.000197</td>\n",
              "      <td>-0.007423</td>\n",
              "      <td>-0.288097</td>\n",
              "      <td>-0.285583</td>\n",
              "      <td>-0.386971</td>\n",
              "      <td>1.000000</td>\n",
              "    </tr>\n",
              "  </tbody>\n",
              "</table>\n",
              "</div>"
            ],
            "text/plain": [
              "                                           gender  ...  PaymentMethod_Mailed check\n",
              "gender                                   1.000000  ...                   -0.013199\n",
              "SeniorCitizen                            0.001819  ...                   -0.152987\n",
              "Partner                                  0.001379  ...                   -0.096948\n",
              "Dependents                              -0.010349  ...                    0.056448\n",
              "tenure                                  -0.005285  ...                   -0.232181\n",
              "PhoneService                             0.007515  ...                   -0.004463\n",
              "MultipleLines                            0.008883  ...                   -0.227672\n",
              "OnlineSecurity                           0.016328  ...                   -0.079918\n",
              "OnlineBackup                             0.013093  ...                   -0.174075\n",
              "DeviceProtection                         0.000807  ...                   -0.187325\n",
              "TechSupport                              0.008507  ...                   -0.084631\n",
              "StreamingTV                              0.007124  ...                   -0.247712\n",
              "StreamingMovies                          0.010105  ...                   -0.250290\n",
              "PaperlessBilling                         0.011902  ...                   -0.203981\n",
              "MonthlyCharges                           0.013779  ...                   -0.376568\n",
              "Churn                                    0.008545  ...                   -0.090773\n",
              "InternetService_DSL                     -0.007584  ...                    0.042754\n",
              "InternetService_Fiber optic              0.011189  ...                   -0.305984\n",
              "InternetService_No                      -0.004745  ...                    0.319694\n",
              "Contract_Month-to-month                  0.003251  ...                    0.006209\n",
              "Contract_One year                       -0.007755  ...                    0.000197\n",
              "Contract_Two year                        0.003603  ...                   -0.007423\n",
              "PaymentMethod_Bank transfer (automatic)  0.015973  ...                   -0.288097\n",
              "PaymentMethod_Credit card (automatic)   -0.001632  ...                   -0.285583\n",
              "PaymentMethod_Electronic check          -0.000844  ...                   -0.386971\n",
              "PaymentMethod_Mailed check              -0.013199  ...                    1.000000\n",
              "\n",
              "[26 rows x 26 columns]"
            ]
          },
          "metadata": {
            "tags": []
          },
          "execution_count": 48
        }
      ]
    },
    {
      "cell_type": "markdown",
      "metadata": {
        "id": "7wKAalID3gjq"
      },
      "source": [
        "Heatmap showing correlation"
      ]
    },
    {
      "cell_type": "code",
      "metadata": {
        "colab": {
          "base_uri": "https://localhost:8080/",
          "height": 491
        },
        "id": "-uBOZRPNHAES",
        "outputId": "ae0acf41-fb91-4b27-f23f-6b1d41e7580b"
      },
      "source": [
        "sns.heatmap(df.corr())"
      ],
      "execution_count": null,
      "outputs": [
        {
          "output_type": "execute_result",
          "data": {
            "text/plain": [
              "<matplotlib.axes._subplots.AxesSubplot at 0x7f0db29b9310>"
            ]
          },
          "metadata": {
            "tags": []
          },
          "execution_count": 49
        },
        {
          "output_type": "display_data",
          "data": {
            "image/png": "[encoded data removed]",
            "text/plain": [
              "<Figure size 432x288 with 2 Axes>"
            ]
          },
          "metadata": {
            "tags": [],
            "needs_background": "light"
          }
        }
      ]
    },
    {
      "cell_type": "markdown",
      "metadata": {
        "id": "olO2SPO13Xqn"
      },
      "source": [
        "Displaying positively and negatively correlated features."
      ]
    },
    {
      "cell_type": "code",
      "metadata": {
        "colab": {
          "base_uri": "https://localhost:8080/",
          "height": 678
        },
        "id": "rXL6KPrjcLYe",
        "outputId": "4db47a26-c3cc-40ec-d8da-a632504c2885"
      },
      "source": [
        "plt.figure(figsize=(20,8))\n",
        "df.corr()['Churn'].sort_values(ascending = False).plot(kind='bar')"
      ],
      "execution_count": null,
      "outputs": [
        {
          "output_type": "execute_result",
          "data": {
            "text/plain": [
              "<matplotlib.axes._subplots.AxesSubplot at 0x7f0daa7ee390>"
            ]
          },
          "metadata": {
            "tags": []
          },
          "execution_count": 50
        },
        {
          "output_type": "display_data",
          "data": {
            "image/png": "[encoded data removed]",
            "text/plain": [
              "<Figure size 1440x576 with 1 Axes>"
            ]
          },
          "metadata": {
            "tags": [],
            "needs_background": "light"
          }
        }
      ]
    },
    {
      "cell_type": "markdown",
      "metadata": {
        "id": "UounIO9T7RRX"
      },
      "source": [
        "1.  Fiber optic is the preferred choice for internet service.\n",
        "2.  Most of the customers are on a monthly contract.\n",
        "\n"
      ]
    },
    {
      "cell_type": "code",
      "metadata": {
        "id": "hNFZwYEoWwjU",
        "colab": {
          "base_uri": "https://localhost:8080/",
          "height": 296
        },
        "outputId": "6fcf16c7-3920-48de-8ef3-01c9c1d1a33a"
      },
      "source": [
        "\n",
        "sns.countplot(x='Churn', data=df)"
      ],
      "execution_count": null,
      "outputs": [
        {
          "output_type": "execute_result",
          "data": {
            "text/plain": [
              "<matplotlib.axes._subplots.AxesSubplot at 0x7f0daa6ada10>"
            ]
          },
          "metadata": {
            "tags": []
          },
          "execution_count": 51
        },
        {
          "output_type": "display_data",
          "data": {
            "image/png": "[encoded data removed]",
            "text/plain": [
              "<Figure size 432x288 with 1 Axes>"
            ]
          },
          "metadata": {
            "tags": [],
            "needs_background": "light"
          }
        }
      ]
    },
    {
      "cell_type": "code",
      "metadata": {
        "id": "4ZhZHPb4qiBt",
        "colab": {
          "base_uri": "https://localhost:8080/",
          "height": 296
        },
        "outputId": "feda6153-3558-4677-9a72-4931362016ff"
      },
      "source": [
        "sns.barplot(x='tenure', y='Churn',data=df)"
      ],
      "execution_count": null,
      "outputs": [
        {
          "output_type": "execute_result",
          "data": {
            "text/plain": [
              "<matplotlib.axes._subplots.AxesSubplot at 0x7f0daa61f910>"
            ]
          },
          "metadata": {
            "tags": []
          },
          "execution_count": 52
        },
        {
          "output_type": "display_data",
          "data": {
            "image/png": "[encoded data removed]",
            "text/plain": [
              "<Figure size 432x288 with 1 Axes>"
            ]
          },
          "metadata": {
            "tags": [],
            "needs_background": "light"
          }
        }
      ]
    },
    {
      "cell_type": "code",
      "metadata": {
        "id": "TsBocCsGZz13",
        "colab": {
          "base_uri": "https://localhost:8080/",
          "height": 296
        },
        "outputId": "85f035a1-881f-4e30-8a86-1c9abe233b58"
      },
      "source": [
        "sns.barplot(x='Churn',y='SeniorCitizen',data=df)"
      ],
      "execution_count": null,
      "outputs": [
        {
          "output_type": "execute_result",
          "data": {
            "text/plain": [
              "<matplotlib.axes._subplots.AxesSubplot at 0x7f0daa685910>"
            ]
          },
          "metadata": {
            "tags": []
          },
          "execution_count": 53
        },
        {
          "output_type": "display_data",
          "data": {
            "image/png": "[encoded data removed]",
            "text/plain": [
              "<Figure size 432x288 with 1 Axes>"
            ]
          },
          "metadata": {
            "tags": [],
            "needs_background": "light"
          }
        }
      ]
    },
    {
      "cell_type": "code",
      "metadata": {
        "id": "vTapcqw7rmgI",
        "colab": {
          "base_uri": "https://localhost:8080/",
          "height": 296
        },
        "outputId": "e5a8c4aa-bb07-478b-cd11-08cb50c30180"
      },
      "source": [
        "sns.barplot(x='Churn',y='OnlineBackup',data=df)"
      ],
      "execution_count": null,
      "outputs": [
        {
          "output_type": "execute_result",
          "data": {
            "text/plain": [
              "<matplotlib.axes._subplots.AxesSubplot at 0x7f0db2d521d0>"
            ]
          },
          "metadata": {
            "tags": []
          },
          "execution_count": 54
        },
        {
          "output_type": "display_data",
          "data": {
            "image/png": "[encoded data removed]",
            "text/plain": [
              "<Figure size 432x288 with 1 Axes>"
            ]
          },
          "metadata": {
            "tags": [],
            "needs_background": "light"
          }
        }
      ]
    },
    {
      "cell_type": "code",
      "metadata": {
        "id": "TLcdcA-qr7Kg",
        "colab": {
          "base_uri": "https://localhost:8080/",
          "height": 296
        },
        "outputId": "51174a7b-b803-4c1d-8cc8-16e8944984dc"
      },
      "source": [
        "sns.barplot(x='Churn',y='DeviceProtection',data=df)"
      ],
      "execution_count": null,
      "outputs": [
        {
          "output_type": "execute_result",
          "data": {
            "text/plain": [
              "<matplotlib.axes._subplots.AxesSubplot at 0x7f0db2ff7150>"
            ]
          },
          "metadata": {
            "tags": []
          },
          "execution_count": 55
        },
        {
          "output_type": "display_data",
          "data": {
            "image/png": "[encoded data removed]",
            "text/plain": [
              "<Figure size 432x288 with 1 Axes>"
            ]
          },
          "metadata": {
            "tags": [],
            "needs_background": "light"
          }
        }
      ]
    },
    {
      "cell_type": "markdown",
      "metadata": {
        "id": "pxeKHNIT3L6r"
      },
      "source": [
        "Univariate Analysis"
      ]
    },
    {
      "cell_type": "code",
      "metadata": {
        "colab": {
          "base_uri": "https://localhost:8080/",
          "height": 1000
        },
        "id": "HLbcwn89eDMr",
        "outputId": "fede8d49-b3ee-48b0-a173-18c07df32b72"
      },
      "source": [
        "for i, predictor in enumerate(df.drop(columns=['Churn', 'TotalCharges', 'MonthlyCharges'])):\n",
        "    plt.figure(i)\n",
        "    sns.countplot(data=df, x=predictor, hue='Churn')"
      ],
      "execution_count": null,
      "outputs": [
        {
          "output_type": "stream",
          "text": [
            "/usr/local/lib/python3.7/dist-packages/ipykernel_launcher.py:2: RuntimeWarning: More than 20 figures have been opened. Figures created through the pyplot interface (`matplotlib.pyplot.figure`) are retained until explicitly closed and may consume too much memory. (To control this warning, see the rcParam `figure.max_open_warning`).\n",
            "  \n",
            "/usr/local/lib/python3.7/dist-packages/ipykernel_launcher.py:2: RuntimeWarning: More than 20 figures have been opened. Figures created through the pyplot interface (`matplotlib.pyplot.figure`) are retained until explicitly closed and may consume too much memory. (To control this warning, see the rcParam `figure.max_open_warning`).\n",
            "  \n",
            "/usr/local/lib/python3.7/dist-packages/ipykernel_launcher.py:2: RuntimeWarning: More than 20 figures have been opened. Figures created through the pyplot interface (`matplotlib.pyplot.figure`) are retained until explicitly closed and may consume too much memory. (To control this warning, see the rcParam `figure.max_open_warning`).\n",
            "  \n",
            "/usr/local/lib/python3.7/dist-packages/ipykernel_launcher.py:2: RuntimeWarning: More than 20 figures have been opened. Figures created through the pyplot interface (`matplotlib.pyplot.figure`) are retained until explicitly closed and may consume too much memory. (To control this warning, see the rcParam `figure.max_open_warning`).\n",
            "  \n"
          ],
          "name": "stderr"
        },
        {
          "output_type": "display_data",
          "data": {
            "image/png": "[encoded data removed]",
            "text/plain": [
              "<Figure size 432x288 with 1 Axes>"
            ]
          },
          "metadata": {
            "tags": [],
            "needs_background": "light"
          }
        },
        {
          "output_type": "display_data",
          "data": {
            "image/png": "[encoded data removed]",
            "text/plain": [
              "<Figure size 432x288 with 1 Axes>"
            ]
          },
          "metadata": {
            "tags": [],
            "needs_background": "light"
          }
        },
        {
          "output_type": "display_data",
          "data": {
            "image/png": "[encoded data removed]",
            "text/plain": [
              "<Figure size 432x288 with 1 Axes>"
            ]
          },
          "metadata": {
            "tags": [],
            "needs_background": "light"
          }
        },
        {
          "output_type": "display_data",
          "data": {
            "image/png": "[encoded data removed]",
            "text/plain": [
              "<Figure size 432x288 with 1 Axes>"
            ]
          },
          "metadata": {
            "tags": [],
            "needs_background": "light"
          }
        },
        {
          "output_type": "display_data",
          "data": {
            "image/png": "[encoded data removed]",
            "text/plain": [
              "<Figure size 432x288 with 1 Axes>"
            ]
          },
          "metadata": {
            "tags": [],
            "needs_background": "light"
          }
        },
        {
          "output_type": "display_data",
          "data": {
            "image/png": "[encoded data removed]",
            "text/plain": [
              "<Figure size 432x288 with 1 Axes>"
            ]
          },
          "metadata": {
            "tags": [],
            "needs_background": "light"
          }
        },
        {
          "output_type": "display_data",
          "data": {
            "image/png": "[encoded data removed]",
            "text/plain": [
              "<Figure size 432x288 with 1 Axes>"
            ]
          },
          "metadata": {
            "tags": [],
            "needs_background": "light"
          }
        },
        {
          "output_type": "display_data",
          "data": {
            "image/png": "[encoded data removed]",
            "text/plain": [
              "<Figure size 432x288 with 1 Axes>"
            ]
          },
          "metadata": {
            "tags": [],
            "needs_background": "light"
          }
        },
        {
          "output_type": "display_data",
          "data": {
            "image/png": "[encoded data removed]",
            "text/plain": [
              "<Figure size 432x288 with 1 Axes>"
            ]
          },
          "metadata": {
            "tags": [],
            "needs_background": "light"
          }
        },
        {
          "output_type": "display_data",
          "data": {
            "image/png": "[encoded data removed]",
            "text/plain": [
              "<Figure size 432x288 with 1 Axes>"
            ]
          },
          "metadata": {
            "tags": [],
            "needs_background": "light"
          }
        },
        {
          "output_type": "display_data",
          "data": {
            "image/png": "[encoded data removed]",
            "text/plain": [
              "<Figure size 432x288 with 1 Axes>"
            ]
          },
          "metadata": {
            "tags": [],
            "needs_background": "light"
          }
        },
        {
          "output_type": "display_data",
          "data": {
            "image/png": "[encoded data removed]",
            "text/plain": [
              "<Figure size 432x288 with 1 Axes>"
            ]
          },
          "metadata": {
            "tags": [],
            "needs_background": "light"
          }
        },
        {
          "output_type": "display_data",
          "data": {
            "image/png": "[encoded data removed]",
            "text/plain": [
              "<Figure size 432x288 with 1 Axes>"
            ]
          },
          "metadata": {
            "tags": [],
            "needs_background": "light"
          }
        },
        {
          "output_type": "display_data",
          "data": {
            "image/png": "[encoded data removed]",
            "text/plain": [
              "<Figure size 432x288 with 1 Axes>"
            ]
          },
          "metadata": {
            "tags": [],
            "needs_background": "light"
          }
        },
        {
          "output_type": "display_data",
          "data": {
            "image/png": "[encoded data removed]",
            "text/plain": [
              "<Figure size 432x288 with 1 Axes>"
            ]
          },
          "metadata": {
            "tags": [],
            "needs_background": "light"
          }
        },
        {
          "output_type": "display_data",
          "data": {
            "image/png": "[encoded data removed]",
            "text/plain": [
              "<Figure size 432x288 with 1 Axes>"
            ]
          },
          "metadata": {
            "tags": [],
            "needs_background": "light"
          }
        },
        {
          "output_type": "display_data",
          "data": {
            "image/png": "[encoded data removed]",
            "text/plain": [
              "<Figure size 432x288 with 1 Axes>"
            ]
          },
          "metadata": {
            "tags": [],
            "needs_background": "light"
          }
        },
        {
          "output_type": "display_data",
          "data": {
            "image/png": "[encoded data removed]",
            "text/plain": [
              "<Figure size 432x288 with 1 Axes>"
            ]
          },
          "metadata": {
            "tags": [],
            "needs_background": "light"
          }
        },
        {
          "output_type": "display_data",
          "data": {
            "image/png": "[encoded data removed]",
            "text/plain": [
              "<Figure size 432x288 with 1 Axes>"
            ]
          },
          "metadata": {
            "tags": [],
            "needs_background": "light"
          }
        },
        {
          "output_type": "display_data",
          "data": {
            "image/png": "[encoded data removed]",
            "text/plain": [
              "<Figure size 432x288 with 1 Axes>"
            ]
          },
          "metadata": {
            "tags": [],
            "needs_background": "light"
          }
        },
        {
          "output_type": "display_data",
          "data": {
            "image/png": "[encoded data removed]",
            "text/plain": [
              "<Figure size 432x288 with 1 Axes>"
            ]
          },
          "metadata": {
            "tags": [],
            "needs_background": "light"
          }
        },
        {
          "output_type": "display_data",
          "data": {
            "image/png": "[encoded data removed]",
            "text/plain": [
              "<Figure size 432x288 with 1 Axes>"
            ]
          },
          "metadata": {
            "tags": [],
            "needs_background": "light"
          }
        },
        {
          "output_type": "display_data",
          "data": {
            "image/png": "[encoded data removed]",
            "text/plain": [
              "<Figure size 432x288 with 1 Axes>"
            ]
          },
          "metadata": {
            "tags": [],
            "needs_background": "light"
          }
        },
        {
          "output_type": "display_data",
          "data": {
            "image/png": "[encoded data removed]",
            "text/plain": [
              "<Figure size 432x288 with 1 Axes>"
            ]
          },
          "metadata": {
            "tags": [],
            "needs_background": "light"
          }
        }
      ]
    },
    {
      "cell_type": "code",
      "metadata": {
        "colab": {
          "base_uri": "https://localhost:8080/",
          "height": 286
        },
        "id": "bPqO-MiUWp6v",
        "outputId": "1f8a94de-d4c1-4e35-db86-088a1aec0614"
      },
      "source": [
        "df = pd.get_dummies(df)\n",
        "df.head()"
      ],
      "execution_count": null,
      "outputs": [
        {
          "output_type": "execute_result",
          "data": {
            "text/html": [
              "<div>\n",
              "<style scoped>\n",
              "    .dataframe tbody tr th:only-of-type {\n",
              "        vertical-align: middle;\n",
              "    }\n",
              "\n",
              "    .dataframe tbody tr th {\n",
              "        vertical-align: top;\n",
              "    }\n",
              "\n",
              "    .dataframe thead th {\n",
              "        text-align: right;\n",
              "    }\n",
              "</style>\n",
              "<table border=\"1\" class=\"dataframe\">\n",
              "  <thead>\n",
              "    <tr style=\"text-align: right;\">\n",
              "      <th></th>\n",
              "      <th>gender</th>\n",
              "      <th>SeniorCitizen</th>\n",
              "      <th>Partner</th>\n",
              "      <th>Dependents</th>\n",
              "      <th>tenure</th>\n",
              "      <th>PhoneService</th>\n",
              "      <th>MultipleLines</th>\n",
              "      <th>OnlineSecurity</th>\n",
              "      <th>OnlineBackup</th>\n",
              "      <th>DeviceProtection</th>\n",
              "      <th>TechSupport</th>\n",
              "      <th>StreamingTV</th>\n",
              "      <th>StreamingMovies</th>\n",
              "      <th>PaperlessBilling</th>\n",
              "      <th>MonthlyCharges</th>\n",
              "      <th>Churn</th>\n",
              "      <th>InternetService_DSL</th>\n",
              "      <th>InternetService_Fiber optic</th>\n",
              "      <th>InternetService_No</th>\n",
              "      <th>Contract_Month-to-month</th>\n",
              "      <th>Contract_One year</th>\n",
              "      <th>Contract_Two year</th>\n",
              "      <th>PaymentMethod_Bank transfer (automatic)</th>\n",
              "      <th>PaymentMethod_Credit card (automatic)</th>\n",
              "      <th>PaymentMethod_Electronic check</th>\n",
              "      <th>PaymentMethod_Mailed check</th>\n",
              "      <th>TotalCharges_100.2</th>\n",
              "      <th>TotalCharges_100.25</th>\n",
              "      <th>TotalCharges_100.35</th>\n",
              "      <th>TotalCharges_100.4</th>\n",
              "      <th>TotalCharges_100.8</th>\n",
              "      <th>TotalCharges_100.9</th>\n",
              "      <th>TotalCharges_1001.2</th>\n",
              "      <th>TotalCharges_1001.5</th>\n",
              "      <th>TotalCharges_1003.05</th>\n",
              "      <th>TotalCharges_1004.35</th>\n",
              "      <th>TotalCharges_1004.5</th>\n",
              "      <th>TotalCharges_1004.75</th>\n",
              "      <th>TotalCharges_1005.7</th>\n",
              "      <th>TotalCharges_1006.9</th>\n",
              "      <th>...</th>\n",
              "      <th>TotalCharges_973.35</th>\n",
              "      <th>TotalCharges_973.45</th>\n",
              "      <th>TotalCharges_973.55</th>\n",
              "      <th>TotalCharges_973.65</th>\n",
              "      <th>TotalCharges_973.95</th>\n",
              "      <th>TotalCharges_978</th>\n",
              "      <th>TotalCharges_978.6</th>\n",
              "      <th>TotalCharges_979.05</th>\n",
              "      <th>TotalCharges_979.5</th>\n",
              "      <th>TotalCharges_98.35</th>\n",
              "      <th>TotalCharges_98.5</th>\n",
              "      <th>TotalCharges_980.35</th>\n",
              "      <th>TotalCharges_981.45</th>\n",
              "      <th>TotalCharges_982.95</th>\n",
              "      <th>TotalCharges_985.05</th>\n",
              "      <th>TotalCharges_987.95</th>\n",
              "      <th>TotalCharges_989.05</th>\n",
              "      <th>TotalCharges_989.45</th>\n",
              "      <th>TotalCharges_99.45</th>\n",
              "      <th>TotalCharges_99.6</th>\n",
              "      <th>TotalCharges_99.75</th>\n",
              "      <th>TotalCharges_99.95</th>\n",
              "      <th>TotalCharges_990.3</th>\n",
              "      <th>TotalCharges_990.45</th>\n",
              "      <th>TotalCharges_990.85</th>\n",
              "      <th>TotalCharges_990.9</th>\n",
              "      <th>TotalCharges_992.7</th>\n",
              "      <th>TotalCharges_993.15</th>\n",
              "      <th>TotalCharges_994.55</th>\n",
              "      <th>TotalCharges_994.8</th>\n",
              "      <th>TotalCharges_995.35</th>\n",
              "      <th>TotalCharges_996.45</th>\n",
              "      <th>TotalCharges_996.85</th>\n",
              "      <th>TotalCharges_996.95</th>\n",
              "      <th>TotalCharges_997.65</th>\n",
              "      <th>TotalCharges_997.75</th>\n",
              "      <th>TotalCharges_998.1</th>\n",
              "      <th>TotalCharges_999.45</th>\n",
              "      <th>TotalCharges_999.8</th>\n",
              "      <th>TotalCharges_999.9</th>\n",
              "    </tr>\n",
              "  </thead>\n",
              "  <tbody>\n",
              "    <tr>\n",
              "      <th>0</th>\n",
              "      <td>1</td>\n",
              "      <td>0</td>\n",
              "      <td>1</td>\n",
              "      <td>0</td>\n",
              "      <td>1</td>\n",
              "      <td>0</td>\n",
              "      <td>0</td>\n",
              "      <td>0</td>\n",
              "      <td>1</td>\n",
              "      <td>0</td>\n",
              "      <td>0</td>\n",
              "      <td>0</td>\n",
              "      <td>0</td>\n",
              "      <td>1</td>\n",
              "      <td>29.85</td>\n",
              "      <td>0</td>\n",
              "      <td>1</td>\n",
              "      <td>0</td>\n",
              "      <td>0</td>\n",
              "      <td>1</td>\n",
              "      <td>0</td>\n",
              "      <td>0</td>\n",
              "      <td>0</td>\n",
              "      <td>0</td>\n",
              "      <td>1</td>\n",
              "      <td>0</td>\n",
              "      <td>0</td>\n",
              "      <td>0</td>\n",
              "      <td>0</td>\n",
              "      <td>0</td>\n",
              "      <td>0</td>\n",
              "      <td>0</td>\n",
              "      <td>0</td>\n",
              "      <td>0</td>\n",
              "      <td>0</td>\n",
              "      <td>0</td>\n",
              "      <td>0</td>\n",
              "      <td>0</td>\n",
              "      <td>0</td>\n",
              "      <td>0</td>\n",
              "      <td>...</td>\n",
              "      <td>0</td>\n",
              "      <td>0</td>\n",
              "      <td>0</td>\n",
              "      <td>0</td>\n",
              "      <td>0</td>\n",
              "      <td>0</td>\n",
              "      <td>0</td>\n",
              "      <td>0</td>\n",
              "      <td>0</td>\n",
              "      <td>0</td>\n",
              "      <td>0</td>\n",
              "      <td>0</td>\n",
              "      <td>0</td>\n",
              "      <td>0</td>\n",
              "      <td>0</td>\n",
              "      <td>0</td>\n",
              "      <td>0</td>\n",
              "      <td>0</td>\n",
              "      <td>0</td>\n",
              "      <td>0</td>\n",
              "      <td>0</td>\n",
              "      <td>0</td>\n",
              "      <td>0</td>\n",
              "      <td>0</td>\n",
              "      <td>0</td>\n",
              "      <td>0</td>\n",
              "      <td>0</td>\n",
              "      <td>0</td>\n",
              "      <td>0</td>\n",
              "      <td>0</td>\n",
              "      <td>0</td>\n",
              "      <td>0</td>\n",
              "      <td>0</td>\n",
              "      <td>0</td>\n",
              "      <td>0</td>\n",
              "      <td>0</td>\n",
              "      <td>0</td>\n",
              "      <td>0</td>\n",
              "      <td>0</td>\n",
              "      <td>0</td>\n",
              "    </tr>\n",
              "    <tr>\n",
              "      <th>1</th>\n",
              "      <td>0</td>\n",
              "      <td>0</td>\n",
              "      <td>0</td>\n",
              "      <td>0</td>\n",
              "      <td>34</td>\n",
              "      <td>1</td>\n",
              "      <td>0</td>\n",
              "      <td>1</td>\n",
              "      <td>0</td>\n",
              "      <td>1</td>\n",
              "      <td>0</td>\n",
              "      <td>0</td>\n",
              "      <td>0</td>\n",
              "      <td>0</td>\n",
              "      <td>56.95</td>\n",
              "      <td>0</td>\n",
              "      <td>1</td>\n",
              "      <td>0</td>\n",
              "      <td>0</td>\n",
              "      <td>0</td>\n",
              "      <td>1</td>\n",
              "      <td>0</td>\n",
              "      <td>0</td>\n",
              "      <td>0</td>\n",
              "      <td>0</td>\n",
              "      <td>1</td>\n",
              "      <td>0</td>\n",
              "      <td>0</td>\n",
              "      <td>0</td>\n",
              "      <td>0</td>\n",
              "      <td>0</td>\n",
              "      <td>0</td>\n",
              "      <td>0</td>\n",
              "      <td>0</td>\n",
              "      <td>0</td>\n",
              "      <td>0</td>\n",
              "      <td>0</td>\n",
              "      <td>0</td>\n",
              "      <td>0</td>\n",
              "      <td>0</td>\n",
              "      <td>...</td>\n",
              "      <td>0</td>\n",
              "      <td>0</td>\n",
              "      <td>0</td>\n",
              "      <td>0</td>\n",
              "      <td>0</td>\n",
              "      <td>0</td>\n",
              "      <td>0</td>\n",
              "      <td>0</td>\n",
              "      <td>0</td>\n",
              "      <td>0</td>\n",
              "      <td>0</td>\n",
              "      <td>0</td>\n",
              "      <td>0</td>\n",
              "      <td>0</td>\n",
              "      <td>0</td>\n",
              "      <td>0</td>\n",
              "      <td>0</td>\n",
              "      <td>0</td>\n",
              "      <td>0</td>\n",
              "      <td>0</td>\n",
              "      <td>0</td>\n",
              "      <td>0</td>\n",
              "      <td>0</td>\n",
              "      <td>0</td>\n",
              "      <td>0</td>\n",
              "      <td>0</td>\n",
              "      <td>0</td>\n",
              "      <td>0</td>\n",
              "      <td>0</td>\n",
              "      <td>0</td>\n",
              "      <td>0</td>\n",
              "      <td>0</td>\n",
              "      <td>0</td>\n",
              "      <td>0</td>\n",
              "      <td>0</td>\n",
              "      <td>0</td>\n",
              "      <td>0</td>\n",
              "      <td>0</td>\n",
              "      <td>0</td>\n",
              "      <td>0</td>\n",
              "    </tr>\n",
              "    <tr>\n",
              "      <th>2</th>\n",
              "      <td>0</td>\n",
              "      <td>0</td>\n",
              "      <td>0</td>\n",
              "      <td>0</td>\n",
              "      <td>2</td>\n",
              "      <td>1</td>\n",
              "      <td>0</td>\n",
              "      <td>1</td>\n",
              "      <td>1</td>\n",
              "      <td>0</td>\n",
              "      <td>0</td>\n",
              "      <td>0</td>\n",
              "      <td>0</td>\n",
              "      <td>1</td>\n",
              "      <td>53.85</td>\n",
              "      <td>1</td>\n",
              "      <td>1</td>\n",
              "      <td>0</td>\n",
              "      <td>0</td>\n",
              "      <td>1</td>\n",
              "      <td>0</td>\n",
              "      <td>0</td>\n",
              "      <td>0</td>\n",
              "      <td>0</td>\n",
              "      <td>0</td>\n",
              "      <td>1</td>\n",
              "      <td>0</td>\n",
              "      <td>0</td>\n",
              "      <td>0</td>\n",
              "      <td>0</td>\n",
              "      <td>0</td>\n",
              "      <td>0</td>\n",
              "      <td>0</td>\n",
              "      <td>0</td>\n",
              "      <td>0</td>\n",
              "      <td>0</td>\n",
              "      <td>0</td>\n",
              "      <td>0</td>\n",
              "      <td>0</td>\n",
              "      <td>0</td>\n",
              "      <td>...</td>\n",
              "      <td>0</td>\n",
              "      <td>0</td>\n",
              "      <td>0</td>\n",
              "      <td>0</td>\n",
              "      <td>0</td>\n",
              "      <td>0</td>\n",
              "      <td>0</td>\n",
              "      <td>0</td>\n",
              "      <td>0</td>\n",
              "      <td>0</td>\n",
              "      <td>0</td>\n",
              "      <td>0</td>\n",
              "      <td>0</td>\n",
              "      <td>0</td>\n",
              "      <td>0</td>\n",
              "      <td>0</td>\n",
              "      <td>0</td>\n",
              "      <td>0</td>\n",
              "      <td>0</td>\n",
              "      <td>0</td>\n",
              "      <td>0</td>\n",
              "      <td>0</td>\n",
              "      <td>0</td>\n",
              "      <td>0</td>\n",
              "      <td>0</td>\n",
              "      <td>0</td>\n",
              "      <td>0</td>\n",
              "      <td>0</td>\n",
              "      <td>0</td>\n",
              "      <td>0</td>\n",
              "      <td>0</td>\n",
              "      <td>0</td>\n",
              "      <td>0</td>\n",
              "      <td>0</td>\n",
              "      <td>0</td>\n",
              "      <td>0</td>\n",
              "      <td>0</td>\n",
              "      <td>0</td>\n",
              "      <td>0</td>\n",
              "      <td>0</td>\n",
              "    </tr>\n",
              "    <tr>\n",
              "      <th>3</th>\n",
              "      <td>0</td>\n",
              "      <td>0</td>\n",
              "      <td>0</td>\n",
              "      <td>0</td>\n",
              "      <td>45</td>\n",
              "      <td>0</td>\n",
              "      <td>0</td>\n",
              "      <td>1</td>\n",
              "      <td>0</td>\n",
              "      <td>1</td>\n",
              "      <td>1</td>\n",
              "      <td>0</td>\n",
              "      <td>0</td>\n",
              "      <td>0</td>\n",
              "      <td>42.30</td>\n",
              "      <td>0</td>\n",
              "      <td>1</td>\n",
              "      <td>0</td>\n",
              "      <td>0</td>\n",
              "      <td>0</td>\n",
              "      <td>1</td>\n",
              "      <td>0</td>\n",
              "      <td>1</td>\n",
              "      <td>0</td>\n",
              "      <td>0</td>\n",
              "      <td>0</td>\n",
              "      <td>0</td>\n",
              "      <td>0</td>\n",
              "      <td>0</td>\n",
              "      <td>0</td>\n",
              "      <td>0</td>\n",
              "      <td>0</td>\n",
              "      <td>0</td>\n",
              "      <td>0</td>\n",
              "      <td>0</td>\n",
              "      <td>0</td>\n",
              "      <td>0</td>\n",
              "      <td>0</td>\n",
              "      <td>0</td>\n",
              "      <td>0</td>\n",
              "      <td>...</td>\n",
              "      <td>0</td>\n",
              "      <td>0</td>\n",
              "      <td>0</td>\n",
              "      <td>0</td>\n",
              "      <td>0</td>\n",
              "      <td>0</td>\n",
              "      <td>0</td>\n",
              "      <td>0</td>\n",
              "      <td>0</td>\n",
              "      <td>0</td>\n",
              "      <td>0</td>\n",
              "      <td>0</td>\n",
              "      <td>0</td>\n",
              "      <td>0</td>\n",
              "      <td>0</td>\n",
              "      <td>0</td>\n",
              "      <td>0</td>\n",
              "      <td>0</td>\n",
              "      <td>0</td>\n",
              "      <td>0</td>\n",
              "      <td>0</td>\n",
              "      <td>0</td>\n",
              "      <td>0</td>\n",
              "      <td>0</td>\n",
              "      <td>0</td>\n",
              "      <td>0</td>\n",
              "      <td>0</td>\n",
              "      <td>0</td>\n",
              "      <td>0</td>\n",
              "      <td>0</td>\n",
              "      <td>0</td>\n",
              "      <td>0</td>\n",
              "      <td>0</td>\n",
              "      <td>0</td>\n",
              "      <td>0</td>\n",
              "      <td>0</td>\n",
              "      <td>0</td>\n",
              "      <td>0</td>\n",
              "      <td>0</td>\n",
              "      <td>0</td>\n",
              "    </tr>\n",
              "    <tr>\n",
              "      <th>4</th>\n",
              "      <td>1</td>\n",
              "      <td>0</td>\n",
              "      <td>0</td>\n",
              "      <td>0</td>\n",
              "      <td>2</td>\n",
              "      <td>1</td>\n",
              "      <td>0</td>\n",
              "      <td>0</td>\n",
              "      <td>0</td>\n",
              "      <td>0</td>\n",
              "      <td>0</td>\n",
              "      <td>0</td>\n",
              "      <td>0</td>\n",
              "      <td>1</td>\n",
              "      <td>70.70</td>\n",
              "      <td>1</td>\n",
              "      <td>0</td>\n",
              "      <td>1</td>\n",
              "      <td>0</td>\n",
              "      <td>1</td>\n",
              "      <td>0</td>\n",
              "      <td>0</td>\n",
              "      <td>0</td>\n",
              "      <td>0</td>\n",
              "      <td>1</td>\n",
              "      <td>0</td>\n",
              "      <td>0</td>\n",
              "      <td>0</td>\n",
              "      <td>0</td>\n",
              "      <td>0</td>\n",
              "      <td>0</td>\n",
              "      <td>0</td>\n",
              "      <td>0</td>\n",
              "      <td>0</td>\n",
              "      <td>0</td>\n",
              "      <td>0</td>\n",
              "      <td>0</td>\n",
              "      <td>0</td>\n",
              "      <td>0</td>\n",
              "      <td>0</td>\n",
              "      <td>...</td>\n",
              "      <td>0</td>\n",
              "      <td>0</td>\n",
              "      <td>0</td>\n",
              "      <td>0</td>\n",
              "      <td>0</td>\n",
              "      <td>0</td>\n",
              "      <td>0</td>\n",
              "      <td>0</td>\n",
              "      <td>0</td>\n",
              "      <td>0</td>\n",
              "      <td>0</td>\n",
              "      <td>0</td>\n",
              "      <td>0</td>\n",
              "      <td>0</td>\n",
              "      <td>0</td>\n",
              "      <td>0</td>\n",
              "      <td>0</td>\n",
              "      <td>0</td>\n",
              "      <td>0</td>\n",
              "      <td>0</td>\n",
              "      <td>0</td>\n",
              "      <td>0</td>\n",
              "      <td>0</td>\n",
              "      <td>0</td>\n",
              "      <td>0</td>\n",
              "      <td>0</td>\n",
              "      <td>0</td>\n",
              "      <td>0</td>\n",
              "      <td>0</td>\n",
              "      <td>0</td>\n",
              "      <td>0</td>\n",
              "      <td>0</td>\n",
              "      <td>0</td>\n",
              "      <td>0</td>\n",
              "      <td>0</td>\n",
              "      <td>0</td>\n",
              "      <td>0</td>\n",
              "      <td>0</td>\n",
              "      <td>0</td>\n",
              "      <td>0</td>\n",
              "    </tr>\n",
              "  </tbody>\n",
              "</table>\n",
              "<p>5 rows × 6556 columns</p>\n",
              "</div>"
            ],
            "text/plain": [
              "   gender  SeniorCitizen  ...  TotalCharges_999.8  TotalCharges_999.9\n",
              "0       1              0  ...                   0                   0\n",
              "1       0              0  ...                   0                   0\n",
              "2       0              0  ...                   0                   0\n",
              "3       0              0  ...                   0                   0\n",
              "4       1              0  ...                   0                   0\n",
              "\n",
              "[5 rows x 6556 columns]"
            ]
          },
          "metadata": {
            "tags": []
          },
          "execution_count": 57
        }
      ]
    },
    {
      "cell_type": "code",
      "metadata": {
        "colab": {
          "base_uri": "https://localhost:8080/",
          "height": 312
        },
        "id": "6UsLsBmMTDE9",
        "outputId": "e2d649ff-61fa-4fb5-a1b2-63fb0a464b16"
      },
      "source": [
        "Mth = sns.kdeplot(df.MonthlyCharges[(df[\"Churn\"] == 0) ],\n",
        "                color=\"Red\", shade = True)\n",
        "Mth = sns.kdeplot(df.MonthlyCharges[(df[\"Churn\"] == 1) ],\n",
        "                ax =Mth, color=\"Blue\", shade= True)\n",
        "Mth.legend([\"No Churn\",\"Churn\"],loc='upper right')\n",
        "Mth.set_ylabel('Density')\n",
        "Mth.set_xlabel('Monthly Charges')\n",
        "Mth.set_title('Monthly charges by churn')"
      ],
      "execution_count": null,
      "outputs": [
        {
          "output_type": "execute_result",
          "data": {
            "text/plain": [
              "Text(0.5, 1.0, 'Monthly charges by churn')"
            ]
          },
          "metadata": {
            "tags": []
          },
          "execution_count": 58
        },
        {
          "output_type": "display_data",
          "data": {
            "image/png": "[encoded data removed]",
            "text/plain": [
              "<Figure size 432x288 with 1 Axes>"
            ]
          },
          "metadata": {
            "tags": [],
            "needs_background": "light"
          }
        }
      ]
    },
    {
      "cell_type": "markdown",
      "metadata": {
        "id": "jPzsbu3k3E73"
      },
      "source": [
        "High Churn at high monthly Charges"
      ]
    },
    {
      "cell_type": "code",
      "metadata": {
        "colab": {
          "base_uri": "https://localhost:8080/",
          "height": 279
        },
        "id": "k94WAsNZXuzG",
        "outputId": "bba109e2-33c9-4f59-e617-8df99c00750f"
      },
      "source": [
        "sns.countplot(data = df, x= col, order=df['Partner'].value_counts().index,hue='gender',palette='bright')\n",
        "plt.show()"
      ],
      "execution_count": null,
      "outputs": [
        {
          "output_type": "display_data",
          "data": {
            "image/png": "[encoded data removed]",
            "text/plain": [
              "<Figure size 432x288 with 1 Axes>"
            ]
          },
          "metadata": {
            "tags": [],
            "needs_background": "light"
          }
        }
      ]
    },
    {
      "cell_type": "code",
      "metadata": {
        "colab": {
          "base_uri": "https://localhost:8080/",
          "height": 279
        },
        "id": "En_34axsXNZR",
        "outputId": "c947d62f-b645-49ec-d0dc-e2d4c39e0955"
      },
      "source": [
        "sns.countplot(data = df, x= col, order=df['TechSupport'].value_counts().index,hue='gender',palette='bright')\n",
        "plt.show()"
      ],
      "execution_count": null,
      "outputs": [
        {
          "output_type": "display_data",
          "data": {
            "image/png": "[encoded data removed]",
            "text/plain": [
              "<Figure size 432x288 with 1 Axes>"
            ]
          },
          "metadata": {
            "tags": [],
            "needs_background": "light"
          }
        }
      ]
    },
    {
      "cell_type": "code",
      "metadata": {
        "colab": {
          "base_uri": "https://localhost:8080/",
          "height": 279
        },
        "id": "9WzOCEIfYe4J",
        "outputId": "72b803fe-3336-4ab8-8e7b-1ac7a04e45d8"
      },
      "source": [
        "sns.countplot(data = df, x= col, order=df['SeniorCitizen'].value_counts().index,hue='gender',palette='bright')\n",
        "plt.show()"
      ],
      "execution_count": null,
      "outputs": [
        {
          "output_type": "display_data",
          "data": {
            "image/png": "[encoded data removed]",
            "text/plain": [
              "<Figure size 432x288 with 1 Axes>"
            ]
          },
          "metadata": {
            "tags": [],
            "needs_background": "light"
          }
        }
      ]
    },
    {
      "cell_type": "markdown",
      "metadata": {
        "id": "vcVcGNmF27jB"
      },
      "source": [
        "Non senior citizens are high churners\n"
      ]
    },
    {
      "cell_type": "code",
      "metadata": {
        "id": "PlBIGVA7iWHs"
      },
      "source": [
        "Y = df['Churn']\n",
        "X = df.drop('Churn',axis='columns')"
      ],
      "execution_count": null,
      "outputs": []
    },
    {
      "cell_type": "code",
      "metadata": {
        "id": "utfzOEYtibHr"
      },
      "source": [
        "le = LabelEncoder() \n",
        "Y = le.fit_transform(Y)"
      ],
      "execution_count": null,
      "outputs": []
    },
    {
      "cell_type": "code",
      "metadata": {
        "id": "H7e7BvrnVG68"
      },
      "source": [
        "Train_X, Test_X, Train_Y, Test_Y = train_test_split(X, Y, test_size=0.2)"
      ],
      "execution_count": null,
      "outputs": []
    },
    {
      "cell_type": "markdown",
      "metadata": {
        "id": "eMzNd7EO211i"
      },
      "source": [
        "20% records are test data and 80% are training"
      ]
    },
    {
      "cell_type": "code",
      "metadata": {
        "id": "EYDNe7YyjyTg"
      },
      "source": [
        "Knn = KNeighborsClassifier(n_neighbors = 4).fit(Train_X,Train_Y)"
      ],
      "execution_count": null,
      "outputs": []
    },
    {
      "cell_type": "code",
      "metadata": {
        "id": "PML8RCB5kHwI"
      },
      "source": [
        "prediction = Knn.predict(Test_X)"
      ],
      "execution_count": null,
      "outputs": []
    },
    {
      "cell_type": "markdown",
      "metadata": {
        "id": "1QJVr_Nm2vaC"
      },
      "source": [
        "Accuracy of KNN"
      ]
    },
    {
      "cell_type": "code",
      "metadata": {
        "colab": {
          "base_uri": "https://localhost:8080/"
        },
        "id": "TJ-_RupTkUsi",
        "outputId": "42c52099-dff3-435c-ab09-e4a362197848"
      },
      "source": [
        "accuracy_score(Test_Y, prediction)"
      ],
      "execution_count": null,
      "outputs": [
        {
          "output_type": "execute_result",
          "data": {
            "text/plain": [
              "0.7633262260127932"
            ]
          },
          "metadata": {
            "tags": []
          },
          "execution_count": 67
        }
      ]
    },
    {
      "cell_type": "code",
      "metadata": {
        "colab": {
          "base_uri": "https://localhost:8080/"
        },
        "id": "u0xCAlmKcTWq",
        "outputId": "623f9241-4986-4cd3-e6e3-885c0c61c8a7"
      },
      "source": [
        "reg = linear_model.LogisticRegression()\n",
        "reg.fit(Train_X,Train_Y)"
      ],
      "execution_count": null,
      "outputs": [
        {
          "output_type": "stream",
          "text": [
            "/usr/local/lib/python3.7/dist-packages/sklearn/linear_model/_logistic.py:940: ConvergenceWarning: lbfgs failed to converge (status=1):\n",
            "STOP: TOTAL NO. of ITERATIONS REACHED LIMIT.\n",
            "\n",
            "Increase the number of iterations (max_iter) or scale the data as shown in:\n",
            "    https://scikit-learn.org/stable/modules/preprocessing.html\n",
            "Please also refer to the documentation for alternative solver options:\n",
            "    https://scikit-learn.org/stable/modules/linear_model.html#logistic-regression\n",
            "  extra_warning_msg=_LOGISTIC_SOLVER_CONVERGENCE_MSG)\n"
          ],
          "name": "stderr"
        },
        {
          "output_type": "execute_result",
          "data": {
            "text/plain": [
              "LogisticRegression(C=1.0, class_weight=None, dual=False, fit_intercept=True,\n",
              "                   intercept_scaling=1, l1_ratio=None, max_iter=100,\n",
              "                   multi_class='auto', n_jobs=None, penalty='l2',\n",
              "                   random_state=None, solver='lbfgs', tol=0.0001, verbose=0,\n",
              "                   warm_start=False)"
            ]
          },
          "metadata": {
            "tags": []
          },
          "execution_count": 68
        }
      ]
    },
    {
      "cell_type": "code",
      "metadata": {
        "id": "xCFnfA8g7e3X"
      },
      "source": [
        "predict = reg.predict(Test_X)"
      ],
      "execution_count": null,
      "outputs": []
    },
    {
      "cell_type": "markdown",
      "metadata": {
        "id": "IrdS3EIM2p_f"
      },
      "source": [
        "Accuracy of Logistic Regression"
      ]
    },
    {
      "cell_type": "code",
      "metadata": {
        "colab": {
          "base_uri": "https://localhost:8080/"
        },
        "id": "Do5twXh47i9G",
        "outputId": "e66d5f51-2ddc-4bab-dfd4-6e0a29febb77"
      },
      "source": [
        "accuracy_score(Test_Y, predict)"
      ],
      "execution_count": null,
      "outputs": [
        {
          "output_type": "execute_result",
          "data": {
            "text/plain": [
              "0.7874911158493249"
            ]
          },
          "metadata": {
            "tags": []
          },
          "execution_count": 70
        }
      ]
    },
    {
      "cell_type": "code",
      "metadata": {
        "colab": {
          "base_uri": "https://localhost:8080/"
        },
        "id": "oG01j0ka7sxh",
        "outputId": "7f2aa540-6bce-40a2-ef1d-42a25f6f8dd1"
      },
      "source": [
        "confu_mat = confusion_matrix(Test_Y, predict)\n",
        "print(confu_mat)"
      ],
      "execution_count": null,
      "outputs": [
        {
          "output_type": "stream",
          "text": [
            "[[908 111]\n",
            " [188 200]]\n"
          ],
          "name": "stdout"
        }
      ]
    },
    {
      "cell_type": "code",
      "metadata": {
        "id": "pShVajWW53pF"
      },
      "source": [
        "lm1 = DecisionTreeClassifier().fit(Train_X,Train_Y)\n",
        "forest_pred = lm1.predict(Test_X)"
      ],
      "execution_count": null,
      "outputs": []
    },
    {
      "cell_type": "markdown",
      "metadata": {
        "id": "moCAAeek2gWf"
      },
      "source": [
        "Accuracy of Decision Tree Classifier"
      ]
    },
    {
      "cell_type": "code",
      "metadata": {
        "colab": {
          "base_uri": "https://localhost:8080/"
        },
        "id": "HV861tKI6u7q",
        "outputId": "520d91dd-1107-4822-c96e-a01b97d56d10"
      },
      "source": [
        "accuracy_score(Test_Y, forest_pred)"
      ],
      "execution_count": null,
      "outputs": [
        {
          "output_type": "execute_result",
          "data": {
            "text/plain": [
              "0.7619047619047619"
            ]
          },
          "metadata": {
            "tags": []
          },
          "execution_count": 73
        }
      ]
    },
    {
      "cell_type": "code",
      "metadata": {
        "colab": {
          "base_uri": "https://localhost:8080/"
        },
        "id": "pVYbpmT375Ws",
        "outputId": "4509df59-51c8-4142-a4cd-e52684bb3f61"
      },
      "source": [
        "confu_mat = confusion_matrix(Test_Y, forest_pred)\n",
        "print(forest_pred)"
      ],
      "execution_count": null,
      "outputs": [
        {
          "output_type": "stream",
          "text": [
            "[0 0 0 ... 1 0 0]\n"
          ],
          "name": "stdout"
        }
      ]
    },
    {
      "cell_type": "code",
      "metadata": {
        "id": "wg36OYYUdmM8"
      },
      "source": [
        "lm2 = RandomForestClassifier(n_estimators= 100,random_state= 20).fit(Train_X,Train_Y)\n",
        "forest_pred = lm2.predict(Test_X)"
      ],
      "execution_count": null,
      "outputs": []
    },
    {
      "cell_type": "markdown",
      "metadata": {
        "id": "R2KkwYlU2Qy3"
      },
      "source": [
        "Accuracy of Random Forest Classifier\n"
      ]
    },
    {
      "cell_type": "code",
      "metadata": {
        "id": "YzvydSpXdweI",
        "colab": {
          "base_uri": "https://localhost:8080/"
        },
        "outputId": "a9e68c48-15ca-44ef-d479-878874349b1f"
      },
      "source": [
        "accuracy_score(Test_Y, forest_pred)"
      ],
      "execution_count": null,
      "outputs": [
        {
          "output_type": "execute_result",
          "data": {
            "text/plain": [
              "0.7874911158493249"
            ]
          },
          "metadata": {
            "tags": []
          },
          "execution_count": 76
        }
      ]
    },
    {
      "cell_type": "code",
      "metadata": {
        "id": "iqxMQXled8Fx",
        "colab": {
          "base_uri": "https://localhost:8080/"
        },
        "outputId": "446dc43f-0579-433a-8806-01173ea17ed4"
      },
      "source": [
        "confu_mat = confusion_matrix(Test_Y, forest_pred)\n",
        "print(confu_mat)"
      ],
      "execution_count": null,
      "outputs": [
        {
          "output_type": "stream",
          "text": [
            "[[930  89]\n",
            " [210 178]]\n"
          ],
          "name": "stdout"
        }
      ]
    },
    {
      "cell_type": "markdown",
      "metadata": {
        "id": "J4fP7KiH16QD"
      },
      "source": [
        "Conclusion : Random Forest Classifier has maximum accuracy\n"
      ]
    },
    {
      "cell_type": "code",
      "metadata": {
        "id": "cexVCSOstT-k"
      },
      "source": [
        "con=[]\n",
        "cat=[]\n",
        "for i in df.columns:\n",
        " if df[i].dtypes=='int64':\n",
        "  con.append(i)\n",
        " elif df[i].dtypes=='object':\n",
        "  cat.append(i)"
      ],
      "execution_count": null,
      "outputs": []
    },
    {
      "cell_type": "markdown",
      "metadata": {
        "id": "A5wwR6HpDf6F"
      },
      "source": [
        "Continuous Variables\n"
      ]
    },
    {
      "cell_type": "code",
      "metadata": {
        "id": "VIEYlmw0eDLB",
        "colab": {
          "base_uri": "https://localhost:8080/"
        },
        "outputId": "b4d878d0-05d2-48ee-e29f-f1231e6cb2c0"
      },
      "source": [
        "con"
      ],
      "execution_count": null,
      "outputs": [
        {
          "output_type": "execute_result",
          "data": {
            "text/plain": [
              "['gender',\n",
              " 'SeniorCitizen',\n",
              " 'Partner',\n",
              " 'Dependents',\n",
              " 'tenure',\n",
              " 'PhoneService',\n",
              " 'MultipleLines',\n",
              " 'OnlineSecurity',\n",
              " 'OnlineBackup',\n",
              " 'DeviceProtection',\n",
              " 'TechSupport',\n",
              " 'StreamingTV',\n",
              " 'StreamingMovies',\n",
              " 'PaperlessBilling',\n",
              " 'Churn']"
            ]
          },
          "metadata": {
            "tags": []
          },
          "execution_count": 79
        }
      ]
    },
    {
      "cell_type": "markdown",
      "metadata": {
        "id": "0XIFx8brDnPE"
      },
      "source": [
        "Categorical Variables"
      ]
    },
    {
      "cell_type": "code",
      "metadata": {
        "id": "7e_nDabseLHC",
        "colab": {
          "base_uri": "https://localhost:8080/"
        },
        "outputId": "144abeb0-a3f4-487d-d13e-b7db3d8c5886"
      },
      "source": [
        "cat"
      ],
      "execution_count": null,
      "outputs": [
        {
          "output_type": "execute_result",
          "data": {
            "text/plain": [
              "[]"
            ]
          },
          "metadata": {
            "tags": []
          },
          "execution_count": 80
        }
      ]
    },
    {
      "cell_type": "code",
      "metadata": {
        "id": "vUNqwGxBeU-P",
        "colab": {
          "base_uri": "https://localhost:8080/",
          "height": 1000
        },
        "outputId": "796865c8-af60-4f26-d3c0-9e3763c560c9"
      },
      "source": [
        "plt.figure(figsize = (16,20))\n",
        "for i in range(0,14):\n",
        " plt.subplot(6,5,i+1)\n",
        " sns.distplot(df[con[i]])"
      ],
      "execution_count": null,
      "outputs": [
        {
          "output_type": "stream",
          "text": [
            "/usr/local/lib/python3.7/dist-packages/seaborn/distributions.py:2557: FutureWarning: `distplot` is a deprecated function and will be removed in a future version. Please adapt your code to use either `displot` (a figure-level function with similar flexibility) or `histplot` (an axes-level function for histograms).\n",
            "  warnings.warn(msg, FutureWarning)\n",
            "/usr/local/lib/python3.7/dist-packages/seaborn/distributions.py:2557: FutureWarning: `distplot` is a deprecated function and will be removed in a future version. Please adapt your code to use either `displot` (a figure-level function with similar flexibility) or `histplot` (an axes-level function for histograms).\n",
            "  warnings.warn(msg, FutureWarning)\n",
            "/usr/local/lib/python3.7/dist-packages/seaborn/distributions.py:2557: FutureWarning: `distplot` is a deprecated function and will be removed in a future version. Please adapt your code to use either `displot` (a figure-level function with similar flexibility) or `histplot` (an axes-level function for histograms).\n",
            "  warnings.warn(msg, FutureWarning)\n",
            "/usr/local/lib/python3.7/dist-packages/seaborn/distributions.py:2557: FutureWarning: `distplot` is a deprecated function and will be removed in a future version. Please adapt your code to use either `displot` (a figure-level function with similar flexibility) or `histplot` (an axes-level function for histograms).\n",
            "  warnings.warn(msg, FutureWarning)\n",
            "/usr/local/lib/python3.7/dist-packages/seaborn/distributions.py:2557: FutureWarning: `distplot` is a deprecated function and will be removed in a future version. Please adapt your code to use either `displot` (a figure-level function with similar flexibility) or `histplot` (an axes-level function for histograms).\n",
            "  warnings.warn(msg, FutureWarning)\n",
            "/usr/local/lib/python3.7/dist-packages/seaborn/distributions.py:2557: FutureWarning: `distplot` is a deprecated function and will be removed in a future version. Please adapt your code to use either `displot` (a figure-level function with similar flexibility) or `histplot` (an axes-level function for histograms).\n",
            "  warnings.warn(msg, FutureWarning)\n",
            "/usr/local/lib/python3.7/dist-packages/seaborn/distributions.py:2557: FutureWarning: `distplot` is a deprecated function and will be removed in a future version. Please adapt your code to use either `displot` (a figure-level function with similar flexibility) or `histplot` (an axes-level function for histograms).\n",
            "  warnings.warn(msg, FutureWarning)\n",
            "/usr/local/lib/python3.7/dist-packages/seaborn/distributions.py:2557: FutureWarning: `distplot` is a deprecated function and will be removed in a future version. Please adapt your code to use either `displot` (a figure-level function with similar flexibility) or `histplot` (an axes-level function for histograms).\n",
            "  warnings.warn(msg, FutureWarning)\n",
            "/usr/local/lib/python3.7/dist-packages/seaborn/distributions.py:2557: FutureWarning: `distplot` is a deprecated function and will be removed in a future version. Please adapt your code to use either `displot` (a figure-level function with similar flexibility) or `histplot` (an axes-level function for histograms).\n",
            "  warnings.warn(msg, FutureWarning)\n",
            "/usr/local/lib/python3.7/dist-packages/seaborn/distributions.py:2557: FutureWarning: `distplot` is a deprecated function and will be removed in a future version. Please adapt your code to use either `displot` (a figure-level function with similar flexibility) or `histplot` (an axes-level function for histograms).\n",
            "  warnings.warn(msg, FutureWarning)\n",
            "/usr/local/lib/python3.7/dist-packages/seaborn/distributions.py:2557: FutureWarning: `distplot` is a deprecated function and will be removed in a future version. Please adapt your code to use either `displot` (a figure-level function with similar flexibility) or `histplot` (an axes-level function for histograms).\n",
            "  warnings.warn(msg, FutureWarning)\n",
            "/usr/local/lib/python3.7/dist-packages/seaborn/distributions.py:2557: FutureWarning: `distplot` is a deprecated function and will be removed in a future version. Please adapt your code to use either `displot` (a figure-level function with similar flexibility) or `histplot` (an axes-level function for histograms).\n",
            "  warnings.warn(msg, FutureWarning)\n",
            "/usr/local/lib/python3.7/dist-packages/seaborn/distributions.py:2557: FutureWarning: `distplot` is a deprecated function and will be removed in a future version. Please adapt your code to use either `displot` (a figure-level function with similar flexibility) or `histplot` (an axes-level function for histograms).\n",
            "  warnings.warn(msg, FutureWarning)\n",
            "/usr/local/lib/python3.7/dist-packages/seaborn/distributions.py:2557: FutureWarning: `distplot` is a deprecated function and will be removed in a future version. Please adapt your code to use either `displot` (a figure-level function with similar flexibility) or `histplot` (an axes-level function for histograms).\n",
            "  warnings.warn(msg, FutureWarning)\n"
          ],
          "name": "stderr"
        },
        {
          "output_type": "display_data",
          "data": {
            "image/png": "[encoded data removed]",
            "text/plain": [
              "<Figure size 1152x1440 with 14 Axes>"
            ]
          },
          "metadata": {
            "tags": [],
            "needs_background": "light"
          }
        }
      ]
    }
  ]
}